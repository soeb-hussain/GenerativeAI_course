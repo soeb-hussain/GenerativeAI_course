{
  "cells": [
    {
      "cell_type": "markdown",
      "metadata": {
        "id": "6P1wHzwAAkpi"
      },
      "source": [
        "# Name - Soeb Hussain\n",
        "# Nuid - 002747200\n",
        "# Assignment 1\n",
        "# CSYE7340 - GenAI"
      ]
    },
    {
      "cell_type": "code",
      "execution_count": 2,
      "metadata": {
        "colab": {
          "base_uri": "https://localhost:8080/"
        },
        "id": "_0_2wvoS3cFO",
        "outputId": "df08efe6-67d1-4378-86ab-1f2a7b3e3709"
      },
      "outputs": [
        {
          "name": "stdout",
          "output_type": "stream",
          "text": [
            "Requirement already satisfied: fancyimpute in /usr/local/lib/python3.10/dist-packages (0.7.0)\n",
            "Requirement already satisfied: knnimpute>=0.1.0 in /usr/local/lib/python3.10/dist-packages (from fancyimpute) (0.1.0)\n",
            "Requirement already satisfied: scikit-learn>=0.24.2 in /usr/local/lib/python3.10/dist-packages (from fancyimpute) (1.2.2)\n",
            "Requirement already satisfied: cvxpy in /usr/local/lib/python3.10/dist-packages (from fancyimpute) (1.3.2)\n",
            "Requirement already satisfied: cvxopt in /usr/local/lib/python3.10/dist-packages (from fancyimpute) (1.3.2)\n",
            "Requirement already satisfied: pytest in /usr/local/lib/python3.10/dist-packages (from fancyimpute) (7.4.1)\n",
            "Requirement already satisfied: nose in /usr/local/lib/python3.10/dist-packages (from fancyimpute) (1.3.7)\n",
            "Requirement already satisfied: six in /usr/local/lib/python3.10/dist-packages (from knnimpute>=0.1.0->fancyimpute) (1.16.0)\n",
            "Requirement already satisfied: numpy>=1.10 in /usr/local/lib/python3.10/dist-packages (from knnimpute>=0.1.0->fancyimpute) (1.23.5)\n",
            "Requirement already satisfied: scipy>=1.3.2 in /usr/local/lib/python3.10/dist-packages (from scikit-learn>=0.24.2->fancyimpute) (1.11.2)\n",
            "Requirement already satisfied: joblib>=1.1.1 in /usr/local/lib/python3.10/dist-packages (from scikit-learn>=0.24.2->fancyimpute) (1.3.2)\n",
            "Requirement already satisfied: threadpoolctl>=2.0.0 in /usr/local/lib/python3.10/dist-packages (from scikit-learn>=0.24.2->fancyimpute) (3.2.0)\n",
            "Requirement already satisfied: osqp>=0.4.1 in /usr/local/lib/python3.10/dist-packages (from cvxpy->fancyimpute) (0.6.2.post8)\n",
            "Requirement already satisfied: ecos>=2 in /usr/local/lib/python3.10/dist-packages (from cvxpy->fancyimpute) (2.0.12)\n",
            "Requirement already satisfied: scs>=1.1.6 in /usr/local/lib/python3.10/dist-packages (from cvxpy->fancyimpute) (3.2.3)\n",
            "Requirement already satisfied: setuptools>65.5.1 in /usr/local/lib/python3.10/dist-packages (from cvxpy->fancyimpute) (67.7.2)\n",
            "Requirement already satisfied: iniconfig in /usr/local/lib/python3.10/dist-packages (from pytest->fancyimpute) (2.0.0)\n",
            "Requirement already satisfied: packaging in /usr/local/lib/python3.10/dist-packages (from pytest->fancyimpute) (23.1)\n",
            "Requirement already satisfied: pluggy<2.0,>=0.12 in /usr/local/lib/python3.10/dist-packages (from pytest->fancyimpute) (1.3.0)\n",
            "Requirement already satisfied: exceptiongroup>=1.0.0rc8 in /usr/local/lib/python3.10/dist-packages (from pytest->fancyimpute) (1.1.3)\n",
            "Requirement already satisfied: tomli>=1.0.0 in /usr/local/lib/python3.10/dist-packages (from pytest->fancyimpute) (2.0.1)\n",
            "Requirement already satisfied: qdldl in /usr/local/lib/python3.10/dist-packages (from osqp>=0.4.1->cvxpy->fancyimpute) (0.1.7.post0)\n"
          ]
        }
      ],
      "source": [
        "! pip install fancyimpute\n"
      ]
    },
    {
      "cell_type": "code",
      "execution_count": 31,
      "metadata": {
        "id": "E0lVvJ44wznN"
      },
      "outputs": [],
      "source": [
        "import pandas as pd\n",
        "from fancyimpute import KNN,IterativeImputer"
      ]
    },
    {
      "cell_type": "markdown",
      "metadata": {
        "id": "zE2ZQYeVqHeW"
      },
      "source": [
        "##10\n",
        " Write a program which counts and prints the numbers of each character in a string input by\n",
        "console.\n",
        "EXAMPLE:\n",
        "INPUT: abcdefgabc\n",
        "OUTPUT:\n",
        "a,2\n",
        "c,2\n",
        "b,2\n",
        "e,1\n",
        "d,1\n",
        "g,1\n",
        "f,1"
      ]
    },
    {
      "cell_type": "code",
      "execution_count": 32,
      "metadata": {
        "id": "eDXlV3gT5Wc2"
      },
      "outputs": [],
      "source": [
        "def countCharacter(charstring =\"abcdefgabc\"):\n",
        "  charMap = {}\n",
        "  for i in charstring:\n",
        "    charMap[i] = 1 + charMap.get(i,0)\n",
        "  for i in charMap.keys():\n",
        "    print('{},{}'.format(i,charMap[i]))\n"
      ]
    },
    {
      "cell_type": "code",
      "execution_count": 33,
      "metadata": {
        "colab": {
          "base_uri": "https://localhost:8080/"
        },
        "id": "9N3xiLgs5hyJ",
        "outputId": "e5a92c4f-4ac3-4452-b98f-41886521b734"
      },
      "outputs": [
        {
          "name": "stdout",
          "output_type": "stream",
          "text": [
            "a,2\n",
            "b,2\n",
            "c,2\n",
            "d,1\n",
            "e,1\n",
            "f,1\n",
            "g,1\n"
          ]
        }
      ],
      "source": [
        "countCharacter(\"abcdefgabc\")"
      ]
    },
    {
      "cell_type": "markdown",
      "metadata": {
        "id": "PrQh562lpiOK"
      },
      "source": [
        "## 11\n",
        "Check if a given string is symmetrical and palindrome or not. A string is said to be symmetrical if\n",
        "both the halves of the string are the same and a string is said to be a palindrome string if one\n",
        "half of the string is the reverse of the other half or if a string appears same when read forward\n",
        "or backward. The string “malayalam” is palindrome, “byebye” is symmetrical."
      ]
    },
    {
      "cell_type": "code",
      "execution_count": 34,
      "metadata": {
        "id": "6Dvrjop82jWh"
      },
      "outputs": [],
      "source": [
        "def checkPalindrom(string1):\n",
        "  return (string1 == string1[::-1])\n",
        "\n",
        "def checkSymmetric(string1):\n",
        "  Str_len_half = len(string1)//2\n",
        "  return string1[:Str_len_half]== string1[Str_len_half:]\n",
        "\n",
        "def CheckSymPal(string1):\n",
        "  if checkSymmetric(string1) and checkPalindrom(string1):\n",
        "    return string1 + \" is symmetric and palindrom\"\n",
        "  elif checkSymmetric(string1):\n",
        "    return string1 + \" is symmetric\"\n",
        "  elif checkPalindrom(string1):\n",
        "    return string1 + \" is palindrom\"\n",
        "  return string1 + \" is not symmetric and palindrom\"\n",
        "\n"
      ]
    },
    {
      "cell_type": "code",
      "execution_count": 35,
      "metadata": {
        "colab": {
          "base_uri": "https://localhost:8080/"
        },
        "id": "u-8z1udf2r6m",
        "outputId": "483a9a12-fb29-4531-a59d-f021320875ab"
      },
      "outputs": [
        {
          "name": "stdout",
          "output_type": "stream",
          "text": [
            "mayalayam is palindrom\n",
            "madam is palindrom\n",
            "byebye is symmetric\n",
            "aaaaaa is symmetric and palindrom\n"
          ]
        }
      ],
      "source": [
        "#Testing\n",
        "print(CheckSymPal('mayalayam'))\n",
        "print(CheckSymPal('madam'))\n",
        "print(CheckSymPal('byebye'))\n",
        "print(CheckSymPal('aaaaaa'))"
      ]
    },
    {
      "cell_type": "markdown",
      "metadata": {
        "id": "dLybstV-plmI"
      },
      "source": [
        "##12\n",
        " Write a Python program to find the n-th term in a Fibonacci series using recursion."
      ]
    },
    {
      "cell_type": "code",
      "execution_count": 36,
      "metadata": {
        "id": "XGAH1XUs76fk"
      },
      "outputs": [],
      "source": [
        "def Fibonacci(n_term):\n",
        "  if n_term<2:\n",
        "    return 1\n",
        "  return Fibonacci(n_term-1) + Fibonacci(n_term- 2)"
      ]
    },
    {
      "cell_type": "code",
      "execution_count": 37,
      "metadata": {
        "colab": {
          "base_uri": "https://localhost:8080/"
        },
        "id": "f_VFu6p68PXb",
        "outputId": "5f198f70-7dbc-41e7-c0db-28af5c2e773a"
      },
      "outputs": [
        {
          "data": {
            "text/plain": [
              "3"
            ]
          },
          "execution_count": 37,
          "metadata": {},
          "output_type": "execute_result"
        }
      ],
      "source": [
        "Fibonacci(3)"
      ]
    },
    {
      "cell_type": "code",
      "execution_count": 38,
      "metadata": {
        "colab": {
          "base_uri": "https://localhost:8080/"
        },
        "id": "R9TnEj2k8R0_",
        "outputId": "d053aac4-79d7-4db3-806b-156248895f76"
      },
      "outputs": [
        {
          "name": "stdout",
          "output_type": "stream",
          "text": [
            "89\n",
            "55\n",
            "34\n",
            "21\n",
            "13\n",
            "8\n",
            "5\n",
            "3\n",
            "2\n",
            "1\n"
          ]
        }
      ],
      "source": [
        "for i in range(10,0,-1):\n",
        "  print(Fibonacci(i))"
      ]
    },
    {
      "cell_type": "markdown",
      "metadata": {
        "id": "dvhbz8pJpamx"
      },
      "source": [
        "## 13\n",
        "Write a Python program to find the longest substring between two given strings. You may not\n",
        "use any package except the substring function but you can make use of recursive function."
      ]
    },
    {
      "cell_type": "code",
      "execution_count": 39,
      "metadata": {
        "id": "v3Ybf699BmCv"
      },
      "outputs": [],
      "source": [
        "def lcs(S,T):\n",
        "    m = len(S)\n",
        "    n = len(T)\n",
        "    counter = [[0]*(n+1) for x in range(m+1)]\n",
        "    longest = 0\n",
        "    lcs_set = set()\n",
        "    for i in range(m):\n",
        "        for j in range(n):\n",
        "            if S[i] == T[j]:\n",
        "                c = counter[i][j] + 1\n",
        "                counter[i+1][j+1] = c\n",
        "                if c > longest:\n",
        "                    lcs_set = set()\n",
        "                    longest = c\n",
        "                    lcs_set.add(S[i-c+1:i+1])\n",
        "                elif c == longest:\n",
        "                    lcs_set.add(S[i-c+1:i+1])\n",
        "\n",
        "    return lcs_set\n"
      ]
    },
    {
      "cell_type": "code",
      "execution_count": 40,
      "metadata": {
        "colab": {
          "base_uri": "https://localhost:8080/"
        },
        "id": "F0ibQi97CncK",
        "outputId": "f80f88d1-7823-4d90-b3a7-5c2bf0feb14e"
      },
      "outputs": [
        {
          "name": "stdout",
          "output_type": "stream",
          "text": [
            "{'acad'}\n",
            "{' lock'}\n",
            "{' the mountain w'}\n"
          ]
        }
      ],
      "source": [
        "\n",
        "# test 1\n",
        "print(lcs('academy', 'abracadabra'))\n",
        "print(lcs(\"We are currently in lockdown\", \"There was a lock on the door\"))\n",
        "print(lcs(\"There is a lady on the mountain with an umbrella\",\"love to look at the mountain when it is snowcapped\"))"
      ]
    },
    {
      "cell_type": "markdown",
      "metadata": {
        "id": "dXLO1iC_p-Ub"
      },
      "source": [
        "## 14\n",
        "  Write a Python program which accepts basic mathematical expressions from console and print\n",
        "the evaluation result.\n",
        "EXAMPLE:\n",
        "INPUT: 35 + 3 * 2"
      ]
    },
    {
      "cell_type": "code",
      "execution_count": 42,
      "metadata": {
        "id": "givNMn5JFS0J"
      },
      "outputs": [],
      "source": [
        "def evaluate_string(string1):\n",
        "  return eval(string1)"
      ]
    },
    {
      "cell_type": "code",
      "execution_count": 43,
      "metadata": {
        "colab": {
          "base_uri": "https://localhost:8080/"
        },
        "id": "E0PeiNL7FXvw",
        "outputId": "ac7dfb3f-ddbd-403b-8ecf-f6b9abb96623"
      },
      "outputs": [
        {
          "data": {
            "text/plain": [
              "41"
            ]
          },
          "execution_count": 43,
          "metadata": {},
          "output_type": "execute_result"
        }
      ],
      "source": [
        "evaluate_string('35 + 3 * 2')"
      ]
    },
    {
      "cell_type": "markdown",
      "metadata": {
        "id": "HxCAM_zKpL25"
      },
      "source": [
        "## 15\n",
        "Read the loan data file into a dataframe and then compute the following:\n",
        "\n",
        "• mean and variance of the Age column,\n",
        "\n",
        "• correlation coefficient between the two numerical columns Age and Time_at_address,\n",
        "\n",
        "• the conditional probability p(Decision = reject | Occupation = Unemployed),\n",
        "\n",
        "• frequency of values in the Job-status column and then draw a bar diagram using matplotli"
      ]
    },
    {
      "cell_type": "code",
      "execution_count": 44,
      "metadata": {
        "id": "4WaZSlftbJPn"
      },
      "outputs": [],
      "source": [
        "import pandas as pd"
      ]
    },
    {
      "cell_type": "code",
      "execution_count": 45,
      "metadata": {
        "id": "HboMkxAqb-gr"
      },
      "outputs": [],
      "source": [
        "loan_data = pd.read_excel('./loan.xlsx')"
      ]
    },
    {
      "cell_type": "code",
      "execution_count": 46,
      "metadata": {
        "colab": {
          "base_uri": "https://localhost:8080/",
          "height": 444
        },
        "id": "0o8jPRncdD8-",
        "outputId": "6664d5ea-a201-4ebb-9e0d-2453d8760d25"
      },
      "outputs": [
        {
          "data": {
            "text/html": [
              "\n",
              "  <div id=\"df-39f97423-d5e9-4bc9-87de-2755e6c7b048\" class=\"colab-df-container\">\n",
              "    <div>\n",
              "<style scoped>\n",
              "    .dataframe tbody tr th:only-of-type {\n",
              "        vertical-align: middle;\n",
              "    }\n",
              "\n",
              "    .dataframe tbody tr th {\n",
              "        vertical-align: top;\n",
              "    }\n",
              "\n",
              "    .dataframe thead th {\n",
              "        text-align: right;\n",
              "    }\n",
              "</style>\n",
              "<table border=\"1\" class=\"dataframe\">\n",
              "  <thead>\n",
              "    <tr style=\"text-align: right;\">\n",
              "      <th></th>\n",
              "      <th>Sex</th>\n",
              "      <th>Age</th>\n",
              "      <th>Time_at_address</th>\n",
              "      <th>Res_status</th>\n",
              "      <th>Telephone</th>\n",
              "      <th>Occupation</th>\n",
              "      <th>Job_status</th>\n",
              "      <th>Time_employed</th>\n",
              "      <th>Time_bank</th>\n",
              "      <th>Liab_ref</th>\n",
              "      <th>Acc_ref</th>\n",
              "      <th>Home_Expn</th>\n",
              "      <th>Balance</th>\n",
              "      <th>Decision</th>\n",
              "    </tr>\n",
              "  </thead>\n",
              "  <tbody>\n",
              "    <tr>\n",
              "      <th>0</th>\n",
              "      <td>M</td>\n",
              "      <td>50.750000</td>\n",
              "      <td>0.585</td>\n",
              "      <td>owner</td>\n",
              "      <td>given</td>\n",
              "      <td>unemploye</td>\n",
              "      <td>unemploye</td>\n",
              "      <td>0</td>\n",
              "      <td>0</td>\n",
              "      <td>f</td>\n",
              "      <td>given</td>\n",
              "      <td>145</td>\n",
              "      <td>0</td>\n",
              "      <td>reject</td>\n",
              "    </tr>\n",
              "    <tr>\n",
              "      <th>1</th>\n",
              "      <td>M</td>\n",
              "      <td>19.670000</td>\n",
              "      <td>10.000</td>\n",
              "      <td>rent</td>\n",
              "      <td>not_given</td>\n",
              "      <td>labourer</td>\n",
              "      <td>governmen</td>\n",
              "      <td>0</td>\n",
              "      <td>0</td>\n",
              "      <td>t</td>\n",
              "      <td>given</td>\n",
              "      <td>140</td>\n",
              "      <td>0</td>\n",
              "      <td>reject</td>\n",
              "    </tr>\n",
              "    <tr>\n",
              "      <th>2</th>\n",
              "      <td>F</td>\n",
              "      <td>52.830002</td>\n",
              "      <td>15.000</td>\n",
              "      <td>owner</td>\n",
              "      <td>given</td>\n",
              "      <td>creative_</td>\n",
              "      <td>private_s</td>\n",
              "      <td>5</td>\n",
              "      <td>14</td>\n",
              "      <td>f</td>\n",
              "      <td>given</td>\n",
              "      <td>0</td>\n",
              "      <td>2200</td>\n",
              "      <td>accept</td>\n",
              "    </tr>\n",
              "    <tr>\n",
              "      <th>3</th>\n",
              "      <td>M</td>\n",
              "      <td>22.670000</td>\n",
              "      <td>2.540</td>\n",
              "      <td>rent</td>\n",
              "      <td>not_given</td>\n",
              "      <td>creative_</td>\n",
              "      <td>governmen</td>\n",
              "      <td>2</td>\n",
              "      <td>0</td>\n",
              "      <td>f</td>\n",
              "      <td>given</td>\n",
              "      <td>0</td>\n",
              "      <td>0</td>\n",
              "      <td>accept</td>\n",
              "    </tr>\n",
              "    <tr>\n",
              "      <th>4</th>\n",
              "      <td>M</td>\n",
              "      <td>29.250000</td>\n",
              "      <td>13.000</td>\n",
              "      <td>owner</td>\n",
              "      <td>given</td>\n",
              "      <td>driver</td>\n",
              "      <td>governmen</td>\n",
              "      <td>0</td>\n",
              "      <td>0</td>\n",
              "      <td>f</td>\n",
              "      <td>given</td>\n",
              "      <td>228</td>\n",
              "      <td>0</td>\n",
              "      <td>reject</td>\n",
              "    </tr>\n",
              "    <tr>\n",
              "      <th>...</th>\n",
              "      <td>...</td>\n",
              "      <td>...</td>\n",
              "      <td>...</td>\n",
              "      <td>...</td>\n",
              "      <td>...</td>\n",
              "      <td>...</td>\n",
              "      <td>...</td>\n",
              "      <td>...</td>\n",
              "      <td>...</td>\n",
              "      <td>...</td>\n",
              "      <td>...</td>\n",
              "      <td>...</td>\n",
              "      <td>...</td>\n",
              "      <td>...</td>\n",
              "    </tr>\n",
              "    <tr>\n",
              "      <th>424</th>\n",
              "      <td>M</td>\n",
              "      <td>34.169998</td>\n",
              "      <td>2.750</td>\n",
              "      <td>owner</td>\n",
              "      <td>given</td>\n",
              "      <td>guard_etc</td>\n",
              "      <td>self_empl</td>\n",
              "      <td>2</td>\n",
              "      <td>0</td>\n",
              "      <td>t</td>\n",
              "      <td>given</td>\n",
              "      <td>232</td>\n",
              "      <td>200</td>\n",
              "      <td>reject</td>\n",
              "    </tr>\n",
              "    <tr>\n",
              "      <th>425</th>\n",
              "      <td>F</td>\n",
              "      <td>22.250000</td>\n",
              "      <td>1.250</td>\n",
              "      <td>rent</td>\n",
              "      <td>not_given</td>\n",
              "      <td>unemploye</td>\n",
              "      <td>unemploye</td>\n",
              "      <td>3</td>\n",
              "      <td>0</td>\n",
              "      <td>f</td>\n",
              "      <td>given</td>\n",
              "      <td>280</td>\n",
              "      <td>0</td>\n",
              "      <td>reject</td>\n",
              "    </tr>\n",
              "    <tr>\n",
              "      <th>426</th>\n",
              "      <td>M</td>\n",
              "      <td>23.330000</td>\n",
              "      <td>1.500</td>\n",
              "      <td>owner</td>\n",
              "      <td>given</td>\n",
              "      <td>creative_</td>\n",
              "      <td>governmen</td>\n",
              "      <td>1</td>\n",
              "      <td>0</td>\n",
              "      <td>f</td>\n",
              "      <td>given</td>\n",
              "      <td>422</td>\n",
              "      <td>200</td>\n",
              "      <td>accept</td>\n",
              "    </tr>\n",
              "    <tr>\n",
              "      <th>427</th>\n",
              "      <td>M</td>\n",
              "      <td>21.000000</td>\n",
              "      <td>4.790</td>\n",
              "      <td>rent</td>\n",
              "      <td>not_given</td>\n",
              "      <td>productio</td>\n",
              "      <td>private_s</td>\n",
              "      <td>2</td>\n",
              "      <td>1</td>\n",
              "      <td>t</td>\n",
              "      <td>given</td>\n",
              "      <td>80</td>\n",
              "      <td>300</td>\n",
              "      <td>accept</td>\n",
              "    </tr>\n",
              "    <tr>\n",
              "      <th>428</th>\n",
              "      <td>M</td>\n",
              "      <td>27.750000</td>\n",
              "      <td>1.290</td>\n",
              "      <td>owner</td>\n",
              "      <td>given</td>\n",
              "      <td>labourer</td>\n",
              "      <td>governmen</td>\n",
              "      <td>0</td>\n",
              "      <td>0</td>\n",
              "      <td>t</td>\n",
              "      <td>oth_inst_</td>\n",
              "      <td>140</td>\n",
              "      <td>0</td>\n",
              "      <td>reject</td>\n",
              "    </tr>\n",
              "  </tbody>\n",
              "</table>\n",
              "<p>429 rows × 14 columns</p>\n",
              "</div>\n",
              "    <div class=\"colab-df-buttons\">\n",
              "\n",
              "  <div class=\"colab-df-container\">\n",
              "    <button class=\"colab-df-convert\" onclick=\"convertToInteractive('df-39f97423-d5e9-4bc9-87de-2755e6c7b048')\"\n",
              "            title=\"Convert this dataframe to an interactive table.\"\n",
              "            style=\"display:none;\">\n",
              "\n",
              "  <svg xmlns=\"http://www.w3.org/2000/svg\" height=\"24px\" viewBox=\"0 -960 960 960\">\n",
              "    <path d=\"M120-120v-720h720v720H120Zm60-500h600v-160H180v160Zm220 220h160v-160H400v160Zm0 220h160v-160H400v160ZM180-400h160v-160H180v160Zm440 0h160v-160H620v160ZM180-180h160v-160H180v160Zm440 0h160v-160H620v160Z\"/>\n",
              "  </svg>\n",
              "    </button>\n",
              "\n",
              "  <style>\n",
              "    .colab-df-container {\n",
              "      display:flex;\n",
              "      gap: 12px;\n",
              "    }\n",
              "\n",
              "    .colab-df-convert {\n",
              "      background-color: #E8F0FE;\n",
              "      border: none;\n",
              "      border-radius: 50%;\n",
              "      cursor: pointer;\n",
              "      display: none;\n",
              "      fill: #1967D2;\n",
              "      height: 32px;\n",
              "      padding: 0 0 0 0;\n",
              "      width: 32px;\n",
              "    }\n",
              "\n",
              "    .colab-df-convert:hover {\n",
              "      background-color: #E2EBFA;\n",
              "      box-shadow: 0px 1px 2px rgba(60, 64, 67, 0.3), 0px 1px 3px 1px rgba(60, 64, 67, 0.15);\n",
              "      fill: #174EA6;\n",
              "    }\n",
              "\n",
              "    .colab-df-buttons div {\n",
              "      margin-bottom: 4px;\n",
              "    }\n",
              "\n",
              "    [theme=dark] .colab-df-convert {\n",
              "      background-color: #3B4455;\n",
              "      fill: #D2E3FC;\n",
              "    }\n",
              "\n",
              "    [theme=dark] .colab-df-convert:hover {\n",
              "      background-color: #434B5C;\n",
              "      box-shadow: 0px 1px 3px 1px rgba(0, 0, 0, 0.15);\n",
              "      filter: drop-shadow(0px 1px 2px rgba(0, 0, 0, 0.3));\n",
              "      fill: #FFFFFF;\n",
              "    }\n",
              "  </style>\n",
              "\n",
              "    <script>\n",
              "      const buttonEl =\n",
              "        document.querySelector('#df-39f97423-d5e9-4bc9-87de-2755e6c7b048 button.colab-df-convert');\n",
              "      buttonEl.style.display =\n",
              "        google.colab.kernel.accessAllowed ? 'block' : 'none';\n",
              "\n",
              "      async function convertToInteractive(key) {\n",
              "        const element = document.querySelector('#df-39f97423-d5e9-4bc9-87de-2755e6c7b048');\n",
              "        const dataTable =\n",
              "          await google.colab.kernel.invokeFunction('convertToInteractive',\n",
              "                                                    [key], {});\n",
              "        if (!dataTable) return;\n",
              "\n",
              "        const docLinkHtml = 'Like what you see? Visit the ' +\n",
              "          '<a target=\"_blank\" href=https://colab.research.google.com/notebooks/data_table.ipynb>data table notebook</a>'\n",
              "          + ' to learn more about interactive tables.';\n",
              "        element.innerHTML = '';\n",
              "        dataTable['output_type'] = 'display_data';\n",
              "        await google.colab.output.renderOutput(dataTable, element);\n",
              "        const docLink = document.createElement('div');\n",
              "        docLink.innerHTML = docLinkHtml;\n",
              "        element.appendChild(docLink);\n",
              "      }\n",
              "    </script>\n",
              "  </div>\n",
              "\n",
              "\n",
              "<div id=\"df-9a5d9665-5387-4e91-bdad-8a9a9c39f06b\">\n",
              "  <button class=\"colab-df-quickchart\" onclick=\"quickchart('df-9a5d9665-5387-4e91-bdad-8a9a9c39f06b')\"\n",
              "            title=\"Suggest charts.\"\n",
              "            style=\"display:none;\">\n",
              "\n",
              "<svg xmlns=\"http://www.w3.org/2000/svg\" height=\"24px\"viewBox=\"0 0 24 24\"\n",
              "     width=\"24px\">\n",
              "    <g>\n",
              "        <path d=\"M19 3H5c-1.1 0-2 .9-2 2v14c0 1.1.9 2 2 2h14c1.1 0 2-.9 2-2V5c0-1.1-.9-2-2-2zM9 17H7v-7h2v7zm4 0h-2V7h2v10zm4 0h-2v-4h2v4z\"/>\n",
              "    </g>\n",
              "</svg>\n",
              "  </button>\n",
              "\n",
              "<style>\n",
              "  .colab-df-quickchart {\n",
              "      --bg-color: #E8F0FE;\n",
              "      --fill-color: #1967D2;\n",
              "      --hover-bg-color: #E2EBFA;\n",
              "      --hover-fill-color: #174EA6;\n",
              "      --disabled-fill-color: #AAA;\n",
              "      --disabled-bg-color: #DDD;\n",
              "  }\n",
              "\n",
              "  [theme=dark] .colab-df-quickchart {\n",
              "      --bg-color: #3B4455;\n",
              "      --fill-color: #D2E3FC;\n",
              "      --hover-bg-color: #434B5C;\n",
              "      --hover-fill-color: #FFFFFF;\n",
              "      --disabled-bg-color: #3B4455;\n",
              "      --disabled-fill-color: #666;\n",
              "  }\n",
              "\n",
              "  .colab-df-quickchart {\n",
              "    background-color: var(--bg-color);\n",
              "    border: none;\n",
              "    border-radius: 50%;\n",
              "    cursor: pointer;\n",
              "    display: none;\n",
              "    fill: var(--fill-color);\n",
              "    height: 32px;\n",
              "    padding: 0;\n",
              "    width: 32px;\n",
              "  }\n",
              "\n",
              "  .colab-df-quickchart:hover {\n",
              "    background-color: var(--hover-bg-color);\n",
              "    box-shadow: 0 1px 2px rgba(60, 64, 67, 0.3), 0 1px 3px 1px rgba(60, 64, 67, 0.15);\n",
              "    fill: var(--button-hover-fill-color);\n",
              "  }\n",
              "\n",
              "  .colab-df-quickchart-complete:disabled,\n",
              "  .colab-df-quickchart-complete:disabled:hover {\n",
              "    background-color: var(--disabled-bg-color);\n",
              "    fill: var(--disabled-fill-color);\n",
              "    box-shadow: none;\n",
              "  }\n",
              "\n",
              "  .colab-df-spinner {\n",
              "    border: 2px solid var(--fill-color);\n",
              "    border-color: transparent;\n",
              "    border-bottom-color: var(--fill-color);\n",
              "    animation:\n",
              "      spin 1s steps(1) infinite;\n",
              "  }\n",
              "\n",
              "  @keyframes spin {\n",
              "    0% {\n",
              "      border-color: transparent;\n",
              "      border-bottom-color: var(--fill-color);\n",
              "      border-left-color: var(--fill-color);\n",
              "    }\n",
              "    20% {\n",
              "      border-color: transparent;\n",
              "      border-left-color: var(--fill-color);\n",
              "      border-top-color: var(--fill-color);\n",
              "    }\n",
              "    30% {\n",
              "      border-color: transparent;\n",
              "      border-left-color: var(--fill-color);\n",
              "      border-top-color: var(--fill-color);\n",
              "      border-right-color: var(--fill-color);\n",
              "    }\n",
              "    40% {\n",
              "      border-color: transparent;\n",
              "      border-right-color: var(--fill-color);\n",
              "      border-top-color: var(--fill-color);\n",
              "    }\n",
              "    60% {\n",
              "      border-color: transparent;\n",
              "      border-right-color: var(--fill-color);\n",
              "    }\n",
              "    80% {\n",
              "      border-color: transparent;\n",
              "      border-right-color: var(--fill-color);\n",
              "      border-bottom-color: var(--fill-color);\n",
              "    }\n",
              "    90% {\n",
              "      border-color: transparent;\n",
              "      border-bottom-color: var(--fill-color);\n",
              "    }\n",
              "  }\n",
              "</style>\n",
              "\n",
              "  <script>\n",
              "    async function quickchart(key) {\n",
              "      const quickchartButtonEl =\n",
              "        document.querySelector('#' + key + ' button');\n",
              "      quickchartButtonEl.disabled = true;  // To prevent multiple clicks.\n",
              "      quickchartButtonEl.classList.add('colab-df-spinner');\n",
              "      try {\n",
              "        const charts = await google.colab.kernel.invokeFunction(\n",
              "            'suggestCharts', [key], {});\n",
              "      } catch (error) {\n",
              "        console.error('Error during call to suggestCharts:', error);\n",
              "      }\n",
              "      quickchartButtonEl.classList.remove('colab-df-spinner');\n",
              "      quickchartButtonEl.classList.add('colab-df-quickchart-complete');\n",
              "    }\n",
              "    (() => {\n",
              "      let quickchartButtonEl =\n",
              "        document.querySelector('#df-9a5d9665-5387-4e91-bdad-8a9a9c39f06b button');\n",
              "      quickchartButtonEl.style.display =\n",
              "        google.colab.kernel.accessAllowed ? 'block' : 'none';\n",
              "    })();\n",
              "  </script>\n",
              "</div>\n",
              "    </div>\n",
              "  </div>\n"
            ],
            "text/plain": [
              "    Sex        Age  Time_at_address Res_status  Telephone Occupation  \\\n",
              "0     M  50.750000            0.585      owner      given  unemploye   \n",
              "1     M  19.670000           10.000       rent  not_given   labourer   \n",
              "2     F  52.830002           15.000      owner      given  creative_   \n",
              "3     M  22.670000            2.540       rent  not_given  creative_   \n",
              "4     M  29.250000           13.000      owner      given     driver   \n",
              "..   ..        ...              ...        ...        ...        ...   \n",
              "424   M  34.169998            2.750      owner      given  guard_etc   \n",
              "425   F  22.250000            1.250       rent  not_given  unemploye   \n",
              "426   M  23.330000            1.500      owner      given  creative_   \n",
              "427   M  21.000000            4.790       rent  not_given  productio   \n",
              "428   M  27.750000            1.290      owner      given   labourer   \n",
              "\n",
              "    Job_status  Time_employed  Time_bank Liab_ref    Acc_ref  Home_Expn  \\\n",
              "0    unemploye              0          0        f      given        145   \n",
              "1    governmen              0          0        t      given        140   \n",
              "2    private_s              5         14        f      given          0   \n",
              "3    governmen              2          0        f      given          0   \n",
              "4    governmen              0          0        f      given        228   \n",
              "..         ...            ...        ...      ...        ...        ...   \n",
              "424  self_empl              2          0        t      given        232   \n",
              "425  unemploye              3          0        f      given        280   \n",
              "426  governmen              1          0        f      given        422   \n",
              "427  private_s              2          1        t      given         80   \n",
              "428  governmen              0          0        t  oth_inst_        140   \n",
              "\n",
              "     Balance Decision  \n",
              "0          0   reject  \n",
              "1          0   reject  \n",
              "2       2200   accept  \n",
              "3          0   accept  \n",
              "4          0   reject  \n",
              "..       ...      ...  \n",
              "424      200   reject  \n",
              "425        0   reject  \n",
              "426      200   accept  \n",
              "427      300   accept  \n",
              "428        0   reject  \n",
              "\n",
              "[429 rows x 14 columns]"
            ]
          },
          "execution_count": 46,
          "metadata": {},
          "output_type": "execute_result"
        }
      ],
      "source": [
        "loan_data"
      ]
    },
    {
      "cell_type": "code",
      "execution_count": 49,
      "metadata": {
        "colab": {
          "base_uri": "https://localhost:8080/"
        },
        "id": "NLPW6TIwcEt0",
        "outputId": "402f2df7-2b78-4ca0-e2c5-9f62c14f1d7b"
      },
      "outputs": [
        {
          "name": "stdout",
          "output_type": "stream",
          "text": [
            "Age Mean: 31.51016316713987\n",
            "Age Variance : 140.27074594116948\n"
          ]
        }
      ],
      "source": [
        "age_mean = loan_data['Age'].mean()\n",
        "age_variance = loan_data['Age'].var()\n",
        "\n",
        "# Print the results\n",
        "print(\"Age Mean:\", age_mean)\n",
        "print(\"Age Variance :\", age_variance)"
      ]
    },
    {
      "cell_type": "code",
      "execution_count": 50,
      "metadata": {
        "colab": {
          "base_uri": "https://localhost:8080/"
        },
        "id": "f3QULmc5cHet",
        "outputId": "2e94dccc-9b66-4244-d926-60d37ec0d1d1"
      },
      "outputs": [
        {
          "name": "stdout",
          "output_type": "stream",
          "text": [
            "Correlation Coefficient between Age and Time_at_address: 0.21734150131364394\n"
          ]
        }
      ],
      "source": [
        "\n",
        "corr = loan_data['Age'].corr(loan_data['Time_at_address'])\n",
        "\n",
        "print(\"Correlation Coefficient between Age and Time_at_address:\", corr)"
      ]
    },
    {
      "cell_type": "code",
      "execution_count": 51,
      "metadata": {
        "colab": {
          "base_uri": "https://localhost:8080/"
        },
        "id": "9ZelK63sdJhH",
        "outputId": "d1b7ae54-f1d7-4675-c1a0-d6afb6531767"
      },
      "outputs": [
        {
          "data": {
            "text/plain": [
              "Index(['Sex', 'Age', 'Time_at_address', 'Res_status', 'Telephone',\n",
              "       'Occupation', 'Job_status', 'Time_employed', 'Time_bank', 'Liab_ref',\n",
              "       'Acc_ref', 'Home_Expn', 'Balance', 'Decision'],\n",
              "      dtype='object')"
            ]
          },
          "execution_count": 51,
          "metadata": {},
          "output_type": "execute_result"
        }
      ],
      "source": [
        "loan_data.columns"
      ]
    },
    {
      "cell_type": "code",
      "execution_count": 52,
      "metadata": {
        "colab": {
          "base_uri": "https://localhost:8080/"
        },
        "id": "_Uhq5UGgdQC1",
        "outputId": "c025a0e7-43b0-403a-ec32-b7792ca4aef9"
      },
      "outputs": [
        {
          "name": "stdout",
          "output_type": "stream",
          "text": [
            "Conditional Probability P(Decision = 'reject' | Occupation = 'Unemployed'): 0.8666666666666667\n"
          ]
        }
      ],
      "source": [
        "\n",
        "unemployed = len(loan_data[loan_data['Occupation'] == 'unemploye'])\n",
        "unemployed_rejects = len(loan_data[(loan_data['Occupation'] == 'unemploye') & (loan_data['Decision'] == 'reject')])\n",
        "\n",
        "conditional_probability = unemployed_rejects / unemployed\n",
        "\n",
        "print(\"Conditional Probability P(Decision = 'reject' | Occupation = 'Unemployed'):\", conditional_probability)"
      ]
    },
    {
      "cell_type": "code",
      "execution_count": 94,
      "metadata": {
        "colab": {
          "base_uri": "https://localhost:8080/",
          "height": 607
        },
        "id": "zUGqa9HcderM",
        "outputId": "de32611c-ba7b-4eb0-db54-9d2c8bfe318f"
      },
      "outputs": [
        {
          "data": {
            "image/png": "[encoded data removed]",
            "text/plain": [
              "<Figure size 1000x600 with 1 Axes>"
            ]
          },
          "metadata": {},
          "output_type": "display_data"
        }
      ],
      "source": [
        "import pandas as pd\n",
        "import matplotlib.pyplot as plt\n",
        "import seaborn as sns\n",
        "\n",
        "\n",
        "plt.figure(figsize=(10, 6))\n",
        "custom_palette = sns.color_palette(\"Set3\", 7)\n",
        "loan_data['Job_status'].value_counts().plot(kind='bar', color=custom_palette)\n",
        "plt.title('Job vs loan Frequency')\n",
        "plt.xlabel('Job')\n",
        "plt.ylabel('loan Frequency')\n",
        "plt.xticks(rotation=90)  # Rotate x-axis labels for better readability\n",
        "\n",
        "# Show the plot\n",
        "plt.tight_layout()\n",
        "plt.show()\n"
      ]
    },
    {
      "cell_type": "markdown",
      "metadata": {
        "id": "wnCjNbw5pAQ1"
      },
      "source": [
        "## 16\n",
        " Suppose the loan data file provides some examples of applications to accept or reject, as\n",
        " specified in the Decision column N, given the input background info in columns A-M. Come up with various ways to find out the degree of relevance between each input “categorical” column of A-M and the Decision column N. (hint. Chi-Square Test of Independence and Mutual Information"
      ]
    },
    {
      "cell_type": "markdown",
      "metadata": {
        "id": "m_ja8bXehWF6"
      },
      "source": [
        "Chi-Square Test of Independence can help determine if there is a significant association between two categorical variables. In this case, we want to assess the relationship between each categorical input column (A-M) and the Decision column (N).\n",
        "\n",
        "Null Hypothesis (H0): There is no association between the categorical input column and the Decision column.\n",
        "\n",
        "Alternative Hypothesis (Ha): There is an association between the categorical input column and the Decision column."
      ]
    },
    {
      "cell_type": "code",
      "execution_count": 101,
      "metadata": {
        "colab": {
          "base_uri": "https://localhost:8080/"
        },
        "id": "xB_SRNqGfOYj",
        "outputId": "19be14f7-0cc5-44a9-e00b-20cbb102c33d"
      },
      "outputs": [
        {
          "name": "stdout",
          "output_type": "stream",
          "text": [
            "Chi-Square Test for Sex vs. Decision:\n",
            "Chi-Square Statistic: 0.9698325379091995\n",
            "p-value: 0.32472194700727103\n",
            "\n",
            "Chi-Square Test for Age vs. Decision:\n",
            "Chi-Square Statistic: 285.0157436708861\n",
            "p-value: 0.2962203354632565\n",
            "\n",
            "Chi-Square Test for Time_at_address vs. Decision:\n",
            "Chi-Square Statistic: 182.96578346330622\n",
            "p-value: 0.26931516746140144\n",
            "\n",
            "Chi-Square Test for Res_status vs. Decision:\n",
            "Chi-Square Statistic: 7.645830831133978\n",
            "p-value: 0.005690368175836289\n",
            "\n",
            "Chi-Square Test for Telephone vs. Decision:\n",
            "Chi-Square Statistic: 7.645830831133978\n",
            "p-value: 0.005690368175836289\n",
            "\n",
            "Chi-Square Test for Occupation vs. Decision:\n",
            "Chi-Square Statistic: 54.399272667846525\n",
            "p-value: 9.980070508394483e-08\n",
            "\n",
            "Chi-Square Test for Job_status vs. Decision:\n",
            "Chi-Square Statistic: 25.619055363910597\n",
            "p-value: 0.0002621149847778766\n",
            "\n",
            "Chi-Square Test for Time_employed vs. Decision:\n",
            "Chi-Square Statistic: 94.16181430721024\n",
            "p-value: 2.5644729400248205e-12\n",
            "\n",
            "Chi-Square Test for Time_bank vs. Decision:\n",
            "Chi-Square Statistic: 120.44999079265924\n",
            "p-value: 9.138247773480138e-17\n",
            "\n",
            "Chi-Square Test for Liab_ref vs. Decision:\n",
            "Chi-Square Statistic: 1.7463603456735195\n",
            "p-value: 0.1863349426112134\n",
            "\n",
            "Chi-Square Test for Acc_ref vs. Decision:\n",
            "Chi-Square Statistic: 4.061563099061301\n",
            "p-value: 0.04386987339959904\n",
            "\n",
            "Chi-Square Test for Home_Expn vs. Decision:\n",
            "Chi-Square Statistic: 163.13593252563768\n",
            "p-value: 0.012417346116707108\n",
            "\n",
            "Chi-Square Test for Balance vs. Decision:\n",
            "Chi-Square Statistic: 212.89506504592177\n",
            "p-value: 0.014238088782275036\n",
            "\n"
          ]
        }
      ],
      "source": [
        "import pandas as pd\n",
        "from scipy.stats import chi2_contingency\n",
        "\n",
        "\n",
        "def chi_square_test(column_a):\n",
        "    contingency_table = pd.crosstab(loan_data[column_a], loan_data['Decision'])\n",
        "    chi2, p, _, _ = chi2_contingency(contingency_table)\n",
        "    return chi2, p\n",
        "\n",
        "for column in loan_data.columns[:-1]:\n",
        "    chi2_statistic, p_value = chi_square_test(column)\n",
        "    print(f'Chi-Square Test for {column} vs. Decision:')\n",
        "    print(f'Chi-Square Statistic: {chi2_statistic}')\n",
        "    print(f'p-value: {p_value}')\n",
        "    print()\n"
      ]
    },
    {
      "cell_type": "markdown",
      "metadata": {
        "id": "mT40jx3qhr-H"
      },
      "source": [
        "A low p-value (< 0.05, for example) suggests a significant association between the categorical column and the Decision column as null hypothesis is rejected."
      ]
    },
    {
      "cell_type": "markdown",
      "metadata": {
        "id": "vUJ4bXG5hu0E"
      },
      "source": [
        "Hence Res_status,Telephone, Occupation,\n",
        "Job_status, Time_employed Time_bank ,Liab_ref , Acc_ref ,Home_Expn , Balance have strong relevance with decision"
      ]
    },
    {
      "cell_type": "markdown",
      "metadata": {
        "id": "s1EPWAya_pr0"
      },
      "source": [
        "Using Decision tree, a Machine learing based Model"
      ]
    },
    {
      "cell_type": "code",
      "execution_count": 120,
      "metadata": {
        "colab": {
          "base_uri": "https://localhost:8080/"
        },
        "id": "yhUJ_Hamlfvc",
        "outputId": "af7868d9-560d-405a-bd99-a702da861c19"
      },
      "outputs": [
        {
          "name": "stdout",
          "output_type": "stream",
          "text": [
            "Model Accuracy: 0.65\n"
          ]
        }
      ],
      "source": [
        "import pandas as pd\n",
        "from sklearn.model_selection import train_test_split\n",
        "from sklearn.tree import DecisionTreeClassifier\n",
        "from sklearn.metrics import accuracy_score\n",
        "\n",
        "\n",
        "# (one-hot encoding)\n",
        "loan_data_encoded = pd.get_dummies(loan_data, columns=loan_data.select_dtypes(include=['object', 'category']).columns[:-1])\n",
        "\n",
        "# Split data\n",
        "X = loan_data_encoded.drop('Decision', axis=1)\n",
        "y = loan_data_encoded['Decision']\n",
        "X_train, X_test, y_train, y_test = train_test_split(X, y, test_size=0.2, random_state=42)\n",
        "\n",
        "clf = DecisionTreeClassifier(random_state=42)\n",
        "clf.fit(X_train, y_train)\n",
        "\n",
        "y_pred = clf.predict(X_test)\n",
        "\n",
        "accuracy = accuracy_score(y_test, y_pred)\n",
        "print(f\"Model Accuracy: {accuracy:.2f}\")\n",
        "\n",
        "# Analyze feature importances\n",
        "feature_importances = clf.feature_importances_\n"
      ]
    },
    {
      "cell_type": "code",
      "execution_count": 121,
      "metadata": {
        "colab": {
          "base_uri": "https://localhost:8080/"
        },
        "id": "mUhkN4rkmDV8",
        "outputId": "e56e69a2-0a85-46b6-df53-5883eff25aab"
      },
      "outputs": [
        {
          "data": {
            "text/plain": [
              "array([0.04753432, 0.07110762, 0.10524582, 0.28047624, 0.08838576,\n",
              "       0.196982  , 0.        , 0.        , 0.01681024, 0.        ,\n",
              "       0.00593302, 0.01285489, 0.01499307, 0.01869802, 0.        ,\n",
              "       0.0079107 , 0.00316428, 0.0052738 , 0.01938121, 0.01076628,\n",
              "       0.0202824 , 0.00969061, 0.        , 0.        , 0.        ,\n",
              "       0.01123422, 0.        , 0.        , 0.01711449, 0.        ,\n",
              "       0.0113013 , 0.        , 0.        , 0.01892669, 0.00593302])"
            ]
          },
          "execution_count": 121,
          "metadata": {},
          "output_type": "execute_result"
        }
      ],
      "source": [
        "feature_importances"
      ]
    },
    {
      "cell_type": "code",
      "execution_count": 123,
      "metadata": {
        "colab": {
          "base_uri": "https://localhost:8080/"
        },
        "id": "AlicW8dynP_t",
        "outputId": "0d73a922-6902-4191-83e0-f2b5d28c8b0d"
      },
      "outputs": [
        {
          "name": "stdout",
          "output_type": "stream",
          "text": [
            "{'Occupation': 0.11016035811605379, 'Job_status': 0.039650013947534105, 'Acc_ref': 0.024859718717213243, 'Telephone': 0.018787910237782236, 'Res_status': 0.016810235475910422, 'Sex': 0.0, 'Liab_ref': 0.0}\n"
          ]
        }
      ],
      "source": [
        "\n",
        "categorical_feature_importance = {}\n",
        "\n",
        "for col in loan_data.select_dtypes(include=['object', 'category']).columns[:-1]:\n",
        "    related_features = [feature for feature in X.columns if feature.startswith(col)]\n",
        "\n",
        "    # Calculate  importance by summing the importances of its binary features\n",
        "    importance = sum(feature_importances[X.columns.get_loc(feature)] for feature in related_features)\n",
        "\n",
        "    categorical_feature_importance[col] = importance\n",
        "\n",
        "# Sort by importance\n",
        "sorted_feature_importance = dict(sorted(categorical_feature_importance.items(), key=lambda item: item[1], reverse=True))\n",
        "\n",
        "\n",
        "print(sorted_feature_importance)\n"
      ]
    },
    {
      "cell_type": "markdown",
      "metadata": {
        "id": "7XRdsoKGpUyU"
      },
      "source": [
        "## 17\n",
        " Define a class, called Lunch, with __init__() method should have two arguments, self and menu,\n",
        "where menu is a string. Add a method called menu_price. It will involve an if statement: if\n",
        "\"menu 1\" then print \"Price 12.00\", if \"menu 2\" then print \"Price 13.40\", else print \"Error in\n",
        "menu\". Test with Paul = Lunch(\"menu 1\") and call Paul.menu_price()"
      ]
    },
    {
      "cell_type": "code",
      "execution_count": 59,
      "metadata": {
        "colab": {
          "base_uri": "https://localhost:8080/"
        },
        "id": "8XWaBvSnHg5J",
        "outputId": "96c1209c-dc38-4260-858e-267528159a14"
      },
      "outputs": [
        {
          "name": "stdout",
          "output_type": "stream",
          "text": [
            "Price 12.00\n"
          ]
        }
      ],
      "source": [
        "class Lunch:\n",
        "    def __init__(self, menu):\n",
        "        self.menu = menu\n",
        "\n",
        "    def menu_price(self):\n",
        "        if self.menu == \"menu 1\":\n",
        "            print(\"Price 12.00\")\n",
        "        elif self.menu == \"menu 2\":\n",
        "            print(\"Price 13.40\")\n",
        "        else:\n",
        "            print(\"Error in menu\")\n",
        "\n",
        "Paul = Lunch(\"menu 1\")\n",
        "Paul.menu_price()\n"
      ]
    },
    {
      "cell_type": "markdown",
      "metadata": {
        "id": "VMrFC7fvoxhl"
      },
      "source": [
        "## 18\n",
        "In the Kaggle insurance data set (https://www.kaggle.com/c/prudential-life-insurance-\n",
        "assessment/data), the Response column is the output variable and the rest are input variables.\n",
        "Perform the following:\n",
        "\n",
        "• Fill in the missing values applying an appropriate technique.\n",
        "\n",
        "• Make use of the insurance data set to explore the multicollinearity among the input\n",
        "variables.\n",
        "\n",
        "• Single out three input variables that are most relevant to predicting the output variable.\n"
      ]
    },
    {
      "cell_type": "code",
      "execution_count": 2,
      "metadata": {
        "colab": {
          "base_uri": "https://localhost:8080/"
        },
        "id": "9p7fZy-irNbD",
        "outputId": "f45a98d1-e192-489d-e5e6-e9027045d391"
      },
      "outputs": [
        {
          "data": {
            "text/plain": [
              "Index(['Id', 'Product_Info_1', 'Product_Info_2', 'Product_Info_3',\n",
              "       'Product_Info_4', 'Product_Info_5', 'Product_Info_6', 'Product_Info_7',\n",
              "       'Ins_Age', 'Ht',\n",
              "       ...\n",
              "       'Medical_Keyword_40', 'Medical_Keyword_41', 'Medical_Keyword_42',\n",
              "       'Medical_Keyword_43', 'Medical_Keyword_44', 'Medical_Keyword_45',\n",
              "       'Medical_Keyword_46', 'Medical_Keyword_47', 'Medical_Keyword_48',\n",
              "       'Response'],\n",
              "      dtype='object', length=128)"
            ]
          },
          "execution_count": 2,
          "metadata": {},
          "output_type": "execute_result"
        }
      ],
      "source": [
        "insurance_data = pd.read_csv('./train.csv')\n",
        "insurance_data.columns"
      ]
    },
    {
      "cell_type": "code",
      "execution_count": 3,
      "metadata": {
        "colab": {
          "base_uri": "https://localhost:8080/"
        },
        "id": "LebLk4ewrhd0",
        "outputId": "71264619-96e6-456a-9794-babd63b397bd"
      },
      "outputs": [
        {
          "name": "stdout",
          "output_type": "stream",
          "text": [
            "Columns with missing values:\n",
            "Index(['Employment_Info_1', 'Employment_Info_4', 'Employment_Info_6',\n",
            "       'Insurance_History_5', 'Family_Hist_2', 'Family_Hist_3',\n",
            "       'Family_Hist_4', 'Family_Hist_5', 'Medical_History_1',\n",
            "       'Medical_History_10', 'Medical_History_15', 'Medical_History_24',\n",
            "       'Medical_History_32'],\n",
            "      dtype='object')\n"
          ]
        }
      ],
      "source": [
        "missing_values = insurance_data.isna()\n",
        "columns_with_missing_values = missing_values.any()\n",
        "\n",
        "print(\"Columns with missing values:\")\n",
        "print(columns_with_missing_values[columns_with_missing_values].index)"
      ]
    },
    {
      "cell_type": "code",
      "execution_count": 4,
      "metadata": {
        "colab": {
          "base_uri": "https://localhost:8080/",
          "height": 697
        },
        "id": "CztFc6Xor5KF",
        "outputId": "f48fd649-42a3-4765-8cb6-14600d9367c7"
      },
      "outputs": [
        {
          "data": {
            "text/html": [
              "\n",
              "  <div id=\"df-9cbb1457-7e4d-4a02-b3fb-749f52e792f8\" class=\"colab-df-container\">\n",
              "    <div>\n",
              "<style scoped>\n",
              "    .dataframe tbody tr th:only-of-type {\n",
              "        vertical-align: middle;\n",
              "    }\n",
              "\n",
              "    .dataframe tbody tr th {\n",
              "        vertical-align: top;\n",
              "    }\n",
              "\n",
              "    .dataframe thead th {\n",
              "        text-align: right;\n",
              "    }\n",
              "</style>\n",
              "<table border=\"1\" class=\"dataframe\">\n",
              "  <thead>\n",
              "    <tr style=\"text-align: right;\">\n",
              "      <th></th>\n",
              "      <th>Employment_Info_1</th>\n",
              "      <th>Employment_Info_4</th>\n",
              "      <th>Employment_Info_6</th>\n",
              "      <th>Insurance_History_5</th>\n",
              "      <th>Family_Hist_2</th>\n",
              "      <th>Family_Hist_3</th>\n",
              "      <th>Family_Hist_4</th>\n",
              "      <th>Family_Hist_5</th>\n",
              "      <th>Medical_History_1</th>\n",
              "      <th>Medical_History_10</th>\n",
              "      <th>Medical_History_15</th>\n",
              "      <th>Medical_History_24</th>\n",
              "      <th>Medical_History_32</th>\n",
              "    </tr>\n",
              "  </thead>\n",
              "  <tbody>\n",
              "    <tr>\n",
              "      <th>53217</th>\n",
              "      <td>0.125000</td>\n",
              "      <td>0.000</td>\n",
              "      <td>0.247</td>\n",
              "      <td>NaN</td>\n",
              "      <td>0.565217</td>\n",
              "      <td>NaN</td>\n",
              "      <td>NaN</td>\n",
              "      <td>0.419643</td>\n",
              "      <td>NaN</td>\n",
              "      <td>NaN</td>\n",
              "      <td>0.0</td>\n",
              "      <td>NaN</td>\n",
              "      <td>NaN</td>\n",
              "    </tr>\n",
              "    <tr>\n",
              "      <th>7422</th>\n",
              "      <td>0.100000</td>\n",
              "      <td>NaN</td>\n",
              "      <td>0.250</td>\n",
              "      <td>0.002107</td>\n",
              "      <td>NaN</td>\n",
              "      <td>0.382353</td>\n",
              "      <td>NaN</td>\n",
              "      <td>0.446429</td>\n",
              "      <td>6.0</td>\n",
              "      <td>NaN</td>\n",
              "      <td>NaN</td>\n",
              "      <td>1.0</td>\n",
              "      <td>NaN</td>\n",
              "    </tr>\n",
              "    <tr>\n",
              "      <th>3387</th>\n",
              "      <td>0.120000</td>\n",
              "      <td>0.000</td>\n",
              "      <td>0.055</td>\n",
              "      <td>NaN</td>\n",
              "      <td>NaN</td>\n",
              "      <td>NaN</td>\n",
              "      <td>0.676056</td>\n",
              "      <td>NaN</td>\n",
              "      <td>11.0</td>\n",
              "      <td>NaN</td>\n",
              "      <td>NaN</td>\n",
              "      <td>NaN</td>\n",
              "      <td>NaN</td>\n",
              "    </tr>\n",
              "    <tr>\n",
              "      <th>54280</th>\n",
              "      <td>0.100000</td>\n",
              "      <td>0.000</td>\n",
              "      <td>0.150</td>\n",
              "      <td>0.002000</td>\n",
              "      <td>0.304348</td>\n",
              "      <td>NaN</td>\n",
              "      <td>0.239437</td>\n",
              "      <td>NaN</td>\n",
              "      <td>5.0</td>\n",
              "      <td>NaN</td>\n",
              "      <td>NaN</td>\n",
              "      <td>NaN</td>\n",
              "      <td>NaN</td>\n",
              "    </tr>\n",
              "    <tr>\n",
              "      <th>56112</th>\n",
              "      <td>0.090000</td>\n",
              "      <td>0.005</td>\n",
              "      <td>0.675</td>\n",
              "      <td>0.001800</td>\n",
              "      <td>NaN</td>\n",
              "      <td>0.529412</td>\n",
              "      <td>NaN</td>\n",
              "      <td>0.580357</td>\n",
              "      <td>2.0</td>\n",
              "      <td>NaN</td>\n",
              "      <td>NaN</td>\n",
              "      <td>NaN</td>\n",
              "      <td>NaN</td>\n",
              "    </tr>\n",
              "    <tr>\n",
              "      <th>1724</th>\n",
              "      <td>0.190000</td>\n",
              "      <td>0.000</td>\n",
              "      <td>NaN</td>\n",
              "      <td>NaN</td>\n",
              "      <td>NaN</td>\n",
              "      <td>0.303922</td>\n",
              "      <td>0.436620</td>\n",
              "      <td>NaN</td>\n",
              "      <td>4.0</td>\n",
              "      <td>NaN</td>\n",
              "      <td>182.0</td>\n",
              "      <td>NaN</td>\n",
              "      <td>NaN</td>\n",
              "    </tr>\n",
              "    <tr>\n",
              "      <th>49924</th>\n",
              "      <td>0.000000</td>\n",
              "      <td>0.098</td>\n",
              "      <td>1.000</td>\n",
              "      <td>NaN</td>\n",
              "      <td>NaN</td>\n",
              "      <td>0.666667</td>\n",
              "      <td>NaN</td>\n",
              "      <td>0.598214</td>\n",
              "      <td>0.0</td>\n",
              "      <td>NaN</td>\n",
              "      <td>0.0</td>\n",
              "      <td>NaN</td>\n",
              "      <td>NaN</td>\n",
              "    </tr>\n",
              "    <tr>\n",
              "      <th>32463</th>\n",
              "      <td>0.017000</td>\n",
              "      <td>0.000</td>\n",
              "      <td>0.050</td>\n",
              "      <td>0.000667</td>\n",
              "      <td>NaN</td>\n",
              "      <td>0.666667</td>\n",
              "      <td>0.704225</td>\n",
              "      <td>NaN</td>\n",
              "      <td>32.0</td>\n",
              "      <td>NaN</td>\n",
              "      <td>NaN</td>\n",
              "      <td>NaN</td>\n",
              "      <td>NaN</td>\n",
              "    </tr>\n",
              "    <tr>\n",
              "      <th>39836</th>\n",
              "      <td>0.044000</td>\n",
              "      <td>0.000</td>\n",
              "      <td>NaN</td>\n",
              "      <td>0.000533</td>\n",
              "      <td>0.739130</td>\n",
              "      <td>NaN</td>\n",
              "      <td>NaN</td>\n",
              "      <td>0.562500</td>\n",
              "      <td>12.0</td>\n",
              "      <td>NaN</td>\n",
              "      <td>NaN</td>\n",
              "      <td>NaN</td>\n",
              "      <td>NaN</td>\n",
              "    </tr>\n",
              "    <tr>\n",
              "      <th>39560</th>\n",
              "      <td>0.046000</td>\n",
              "      <td>0.000</td>\n",
              "      <td>0.050</td>\n",
              "      <td>0.000667</td>\n",
              "      <td>NaN</td>\n",
              "      <td>NaN</td>\n",
              "      <td>NaN</td>\n",
              "      <td>NaN</td>\n",
              "      <td>7.0</td>\n",
              "      <td>NaN</td>\n",
              "      <td>146.0</td>\n",
              "      <td>NaN</td>\n",
              "      <td>NaN</td>\n",
              "    </tr>\n",
              "    <tr>\n",
              "      <th>9644</th>\n",
              "      <td>0.024000</td>\n",
              "      <td>0.000</td>\n",
              "      <td>0.060</td>\n",
              "      <td>0.000067</td>\n",
              "      <td>0.391304</td>\n",
              "      <td>NaN</td>\n",
              "      <td>0.295775</td>\n",
              "      <td>NaN</td>\n",
              "      <td>5.0</td>\n",
              "      <td>NaN</td>\n",
              "      <td>NaN</td>\n",
              "      <td>NaN</td>\n",
              "      <td>NaN</td>\n",
              "    </tr>\n",
              "    <tr>\n",
              "      <th>21775</th>\n",
              "      <td>0.024000</td>\n",
              "      <td>0.000</td>\n",
              "      <td>NaN</td>\n",
              "      <td>0.000333</td>\n",
              "      <td>NaN</td>\n",
              "      <td>0.500000</td>\n",
              "      <td>NaN</td>\n",
              "      <td>0.464286</td>\n",
              "      <td>4.0</td>\n",
              "      <td>NaN</td>\n",
              "      <td>NaN</td>\n",
              "      <td>NaN</td>\n",
              "      <td>NaN</td>\n",
              "    </tr>\n",
              "    <tr>\n",
              "      <th>50014</th>\n",
              "      <td>0.070000</td>\n",
              "      <td>0.000</td>\n",
              "      <td>0.000</td>\n",
              "      <td>0.000167</td>\n",
              "      <td>0.376812</td>\n",
              "      <td>NaN</td>\n",
              "      <td>0.366197</td>\n",
              "      <td>NaN</td>\n",
              "      <td>0.0</td>\n",
              "      <td>NaN</td>\n",
              "      <td>NaN</td>\n",
              "      <td>NaN</td>\n",
              "      <td>NaN</td>\n",
              "    </tr>\n",
              "    <tr>\n",
              "      <th>32209</th>\n",
              "      <td>0.060000</td>\n",
              "      <td>0.000</td>\n",
              "      <td>0.050</td>\n",
              "      <td>NaN</td>\n",
              "      <td>0.405797</td>\n",
              "      <td>NaN</td>\n",
              "      <td>0.295775</td>\n",
              "      <td>NaN</td>\n",
              "      <td>1.0</td>\n",
              "      <td>NaN</td>\n",
              "      <td>NaN</td>\n",
              "      <td>NaN</td>\n",
              "      <td>NaN</td>\n",
              "    </tr>\n",
              "    <tr>\n",
              "      <th>7133</th>\n",
              "      <td>0.306361</td>\n",
              "      <td>NaN</td>\n",
              "      <td>1.000</td>\n",
              "      <td>NaN</td>\n",
              "      <td>0.695652</td>\n",
              "      <td>NaN</td>\n",
              "      <td>0.619718</td>\n",
              "      <td>NaN</td>\n",
              "      <td>3.0</td>\n",
              "      <td>NaN</td>\n",
              "      <td>0.0</td>\n",
              "      <td>NaN</td>\n",
              "      <td>NaN</td>\n",
              "    </tr>\n",
              "    <tr>\n",
              "      <th>56094</th>\n",
              "      <td>0.070000</td>\n",
              "      <td>0.000</td>\n",
              "      <td>1.000</td>\n",
              "      <td>NaN</td>\n",
              "      <td>0.362319</td>\n",
              "      <td>NaN</td>\n",
              "      <td>0.253521</td>\n",
              "      <td>NaN</td>\n",
              "      <td>3.0</td>\n",
              "      <td>NaN</td>\n",
              "      <td>NaN</td>\n",
              "      <td>NaN</td>\n",
              "      <td>NaN</td>\n",
              "    </tr>\n",
              "    <tr>\n",
              "      <th>43160</th>\n",
              "      <td>0.048000</td>\n",
              "      <td>0.012</td>\n",
              "      <td>0.885</td>\n",
              "      <td>NaN</td>\n",
              "      <td>NaN</td>\n",
              "      <td>0.549020</td>\n",
              "      <td>NaN</td>\n",
              "      <td>0.607143</td>\n",
              "      <td>4.0</td>\n",
              "      <td>NaN</td>\n",
              "      <td>NaN</td>\n",
              "      <td>NaN</td>\n",
              "      <td>NaN</td>\n",
              "    </tr>\n",
              "    <tr>\n",
              "      <th>33735</th>\n",
              "      <td>0.024000</td>\n",
              "      <td>0.000</td>\n",
              "      <td>0.024</td>\n",
              "      <td>NaN</td>\n",
              "      <td>NaN</td>\n",
              "      <td>0.343137</td>\n",
              "      <td>NaN</td>\n",
              "      <td>0.696429</td>\n",
              "      <td>0.0</td>\n",
              "      <td>NaN</td>\n",
              "      <td>NaN</td>\n",
              "      <td>NaN</td>\n",
              "      <td>NaN</td>\n",
              "    </tr>\n",
              "    <tr>\n",
              "      <th>36787</th>\n",
              "      <td>0.075000</td>\n",
              "      <td>0.000</td>\n",
              "      <td>0.450</td>\n",
              "      <td>NaN</td>\n",
              "      <td>0.724638</td>\n",
              "      <td>NaN</td>\n",
              "      <td>0.563380</td>\n",
              "      <td>NaN</td>\n",
              "      <td>3.0</td>\n",
              "      <td>NaN</td>\n",
              "      <td>NaN</td>\n",
              "      <td>NaN</td>\n",
              "      <td>NaN</td>\n",
              "    </tr>\n",
              "    <tr>\n",
              "      <th>43202</th>\n",
              "      <td>0.100000</td>\n",
              "      <td>0.000</td>\n",
              "      <td>0.600</td>\n",
              "      <td>NaN</td>\n",
              "      <td>0.579710</td>\n",
              "      <td>NaN</td>\n",
              "      <td>NaN</td>\n",
              "      <td>0.339286</td>\n",
              "      <td>46.0</td>\n",
              "      <td>NaN</td>\n",
              "      <td>NaN</td>\n",
              "      <td>NaN</td>\n",
              "      <td>NaN</td>\n",
              "    </tr>\n",
              "  </tbody>\n",
              "</table>\n",
              "</div>\n",
              "    <div class=\"colab-df-buttons\">\n",
              "\n",
              "  <div class=\"colab-df-container\">\n",
              "    <button class=\"colab-df-convert\" onclick=\"convertToInteractive('df-9cbb1457-7e4d-4a02-b3fb-749f52e792f8')\"\n",
              "            title=\"Convert this dataframe to an interactive table.\"\n",
              "            style=\"display:none;\">\n",
              "\n",
              "  <svg xmlns=\"http://www.w3.org/2000/svg\" height=\"24px\" viewBox=\"0 -960 960 960\">\n",
              "    <path d=\"M120-120v-720h720v720H120Zm60-500h600v-160H180v160Zm220 220h160v-160H400v160Zm0 220h160v-160H400v160ZM180-400h160v-160H180v160Zm440 0h160v-160H620v160ZM180-180h160v-160H180v160Zm440 0h160v-160H620v160Z\"/>\n",
              "  </svg>\n",
              "    </button>\n",
              "\n",
              "  <style>\n",
              "    .colab-df-container {\n",
              "      display:flex;\n",
              "      gap: 12px;\n",
              "    }\n",
              "\n",
              "    .colab-df-convert {\n",
              "      background-color: #E8F0FE;\n",
              "      border: none;\n",
              "      border-radius: 50%;\n",
              "      cursor: pointer;\n",
              "      display: none;\n",
              "      fill: #1967D2;\n",
              "      height: 32px;\n",
              "      padding: 0 0 0 0;\n",
              "      width: 32px;\n",
              "    }\n",
              "\n",
              "    .colab-df-convert:hover {\n",
              "      background-color: #E2EBFA;\n",
              "      box-shadow: 0px 1px 2px rgba(60, 64, 67, 0.3), 0px 1px 3px 1px rgba(60, 64, 67, 0.15);\n",
              "      fill: #174EA6;\n",
              "    }\n",
              "\n",
              "    .colab-df-buttons div {\n",
              "      margin-bottom: 4px;\n",
              "    }\n",
              "\n",
              "    [theme=dark] .colab-df-convert {\n",
              "      background-color: #3B4455;\n",
              "      fill: #D2E3FC;\n",
              "    }\n",
              "\n",
              "    [theme=dark] .colab-df-convert:hover {\n",
              "      background-color: #434B5C;\n",
              "      box-shadow: 0px 1px 3px 1px rgba(0, 0, 0, 0.15);\n",
              "      filter: drop-shadow(0px 1px 2px rgba(0, 0, 0, 0.3));\n",
              "      fill: #FFFFFF;\n",
              "    }\n",
              "  </style>\n",
              "\n",
              "    <script>\n",
              "      const buttonEl =\n",
              "        document.querySelector('#df-9cbb1457-7e4d-4a02-b3fb-749f52e792f8 button.colab-df-convert');\n",
              "      buttonEl.style.display =\n",
              "        google.colab.kernel.accessAllowed ? 'block' : 'none';\n",
              "\n",
              "      async function convertToInteractive(key) {\n",
              "        const element = document.querySelector('#df-9cbb1457-7e4d-4a02-b3fb-749f52e792f8');\n",
              "        const dataTable =\n",
              "          await google.colab.kernel.invokeFunction('convertToInteractive',\n",
              "                                                    [key], {});\n",
              "        if (!dataTable) return;\n",
              "\n",
              "        const docLinkHtml = 'Like what you see? Visit the ' +\n",
              "          '<a target=\"_blank\" href=https://colab.research.google.com/notebooks/data_table.ipynb>data table notebook</a>'\n",
              "          + ' to learn more about interactive tables.';\n",
              "        element.innerHTML = '';\n",
              "        dataTable['output_type'] = 'display_data';\n",
              "        await google.colab.output.renderOutput(dataTable, element);\n",
              "        const docLink = document.createElement('div');\n",
              "        docLink.innerHTML = docLinkHtml;\n",
              "        element.appendChild(docLink);\n",
              "      }\n",
              "    </script>\n",
              "  </div>\n",
              "\n",
              "\n",
              "<div id=\"df-1aa86488-dd9a-403f-bd86-7b3d24fc3ff8\">\n",
              "  <button class=\"colab-df-quickchart\" onclick=\"quickchart('df-1aa86488-dd9a-403f-bd86-7b3d24fc3ff8')\"\n",
              "            title=\"Suggest charts.\"\n",
              "            style=\"display:none;\">\n",
              "\n",
              "<svg xmlns=\"http://www.w3.org/2000/svg\" height=\"24px\"viewBox=\"0 0 24 24\"\n",
              "     width=\"24px\">\n",
              "    <g>\n",
              "        <path d=\"M19 3H5c-1.1 0-2 .9-2 2v14c0 1.1.9 2 2 2h14c1.1 0 2-.9 2-2V5c0-1.1-.9-2-2-2zM9 17H7v-7h2v7zm4 0h-2V7h2v10zm4 0h-2v-4h2v4z\"/>\n",
              "    </g>\n",
              "</svg>\n",
              "  </button>\n",
              "\n",
              "<style>\n",
              "  .colab-df-quickchart {\n",
              "      --bg-color: #E8F0FE;\n",
              "      --fill-color: #1967D2;\n",
              "      --hover-bg-color: #E2EBFA;\n",
              "      --hover-fill-color: #174EA6;\n",
              "      --disabled-fill-color: #AAA;\n",
              "      --disabled-bg-color: #DDD;\n",
              "  }\n",
              "\n",
              "  [theme=dark] .colab-df-quickchart {\n",
              "      --bg-color: #3B4455;\n",
              "      --fill-color: #D2E3FC;\n",
              "      --hover-bg-color: #434B5C;\n",
              "      --hover-fill-color: #FFFFFF;\n",
              "      --disabled-bg-color: #3B4455;\n",
              "      --disabled-fill-color: #666;\n",
              "  }\n",
              "\n",
              "  .colab-df-quickchart {\n",
              "    background-color: var(--bg-color);\n",
              "    border: none;\n",
              "    border-radius: 50%;\n",
              "    cursor: pointer;\n",
              "    display: none;\n",
              "    fill: var(--fill-color);\n",
              "    height: 32px;\n",
              "    padding: 0;\n",
              "    width: 32px;\n",
              "  }\n",
              "\n",
              "  .colab-df-quickchart:hover {\n",
              "    background-color: var(--hover-bg-color);\n",
              "    box-shadow: 0 1px 2px rgba(60, 64, 67, 0.3), 0 1px 3px 1px rgba(60, 64, 67, 0.15);\n",
              "    fill: var(--button-hover-fill-color);\n",
              "  }\n",
              "\n",
              "  .colab-df-quickchart-complete:disabled,\n",
              "  .colab-df-quickchart-complete:disabled:hover {\n",
              "    background-color: var(--disabled-bg-color);\n",
              "    fill: var(--disabled-fill-color);\n",
              "    box-shadow: none;\n",
              "  }\n",
              "\n",
              "  .colab-df-spinner {\n",
              "    border: 2px solid var(--fill-color);\n",
              "    border-color: transparent;\n",
              "    border-bottom-color: var(--fill-color);\n",
              "    animation:\n",
              "      spin 1s steps(1) infinite;\n",
              "  }\n",
              "\n",
              "  @keyframes spin {\n",
              "    0% {\n",
              "      border-color: transparent;\n",
              "      border-bottom-color: var(--fill-color);\n",
              "      border-left-color: var(--fill-color);\n",
              "    }\n",
              "    20% {\n",
              "      border-color: transparent;\n",
              "      border-left-color: var(--fill-color);\n",
              "      border-top-color: var(--fill-color);\n",
              "    }\n",
              "    30% {\n",
              "      border-color: transparent;\n",
              "      border-left-color: var(--fill-color);\n",
              "      border-top-color: var(--fill-color);\n",
              "      border-right-color: var(--fill-color);\n",
              "    }\n",
              "    40% {\n",
              "      border-color: transparent;\n",
              "      border-right-color: var(--fill-color);\n",
              "      border-top-color: var(--fill-color);\n",
              "    }\n",
              "    60% {\n",
              "      border-color: transparent;\n",
              "      border-right-color: var(--fill-color);\n",
              "    }\n",
              "    80% {\n",
              "      border-color: transparent;\n",
              "      border-right-color: var(--fill-color);\n",
              "      border-bottom-color: var(--fill-color);\n",
              "    }\n",
              "    90% {\n",
              "      border-color: transparent;\n",
              "      border-bottom-color: var(--fill-color);\n",
              "    }\n",
              "  }\n",
              "</style>\n",
              "\n",
              "  <script>\n",
              "    async function quickchart(key) {\n",
              "      const quickchartButtonEl =\n",
              "        document.querySelector('#' + key + ' button');\n",
              "      quickchartButtonEl.disabled = true;  // To prevent multiple clicks.\n",
              "      quickchartButtonEl.classList.add('colab-df-spinner');\n",
              "      try {\n",
              "        const charts = await google.colab.kernel.invokeFunction(\n",
              "            'suggestCharts', [key], {});\n",
              "      } catch (error) {\n",
              "        console.error('Error during call to suggestCharts:', error);\n",
              "      }\n",
              "      quickchartButtonEl.classList.remove('colab-df-spinner');\n",
              "      quickchartButtonEl.classList.add('colab-df-quickchart-complete');\n",
              "    }\n",
              "    (() => {\n",
              "      let quickchartButtonEl =\n",
              "        document.querySelector('#df-1aa86488-dd9a-403f-bd86-7b3d24fc3ff8 button');\n",
              "      quickchartButtonEl.style.display =\n",
              "        google.colab.kernel.accessAllowed ? 'block' : 'none';\n",
              "    })();\n",
              "  </script>\n",
              "</div>\n",
              "    </div>\n",
              "  </div>\n"
            ],
            "text/plain": [
              "       Employment_Info_1  Employment_Info_4  Employment_Info_6  \\\n",
              "53217           0.125000              0.000              0.247   \n",
              "7422            0.100000                NaN              0.250   \n",
              "3387            0.120000              0.000              0.055   \n",
              "54280           0.100000              0.000              0.150   \n",
              "56112           0.090000              0.005              0.675   \n",
              "1724            0.190000              0.000                NaN   \n",
              "49924           0.000000              0.098              1.000   \n",
              "32463           0.017000              0.000              0.050   \n",
              "39836           0.044000              0.000                NaN   \n",
              "39560           0.046000              0.000              0.050   \n",
              "9644            0.024000              0.000              0.060   \n",
              "21775           0.024000              0.000                NaN   \n",
              "50014           0.070000              0.000              0.000   \n",
              "32209           0.060000              0.000              0.050   \n",
              "7133            0.306361                NaN              1.000   \n",
              "56094           0.070000              0.000              1.000   \n",
              "43160           0.048000              0.012              0.885   \n",
              "33735           0.024000              0.000              0.024   \n",
              "36787           0.075000              0.000              0.450   \n",
              "43202           0.100000              0.000              0.600   \n",
              "\n",
              "       Insurance_History_5  Family_Hist_2  Family_Hist_3  Family_Hist_4  \\\n",
              "53217                  NaN       0.565217            NaN            NaN   \n",
              "7422              0.002107            NaN       0.382353            NaN   \n",
              "3387                   NaN            NaN            NaN       0.676056   \n",
              "54280             0.002000       0.304348            NaN       0.239437   \n",
              "56112             0.001800            NaN       0.529412            NaN   \n",
              "1724                   NaN            NaN       0.303922       0.436620   \n",
              "49924                  NaN            NaN       0.666667            NaN   \n",
              "32463             0.000667            NaN       0.666667       0.704225   \n",
              "39836             0.000533       0.739130            NaN            NaN   \n",
              "39560             0.000667            NaN            NaN            NaN   \n",
              "9644              0.000067       0.391304            NaN       0.295775   \n",
              "21775             0.000333            NaN       0.500000            NaN   \n",
              "50014             0.000167       0.376812            NaN       0.366197   \n",
              "32209                  NaN       0.405797            NaN       0.295775   \n",
              "7133                   NaN       0.695652            NaN       0.619718   \n",
              "56094                  NaN       0.362319            NaN       0.253521   \n",
              "43160                  NaN            NaN       0.549020            NaN   \n",
              "33735                  NaN            NaN       0.343137            NaN   \n",
              "36787                  NaN       0.724638            NaN       0.563380   \n",
              "43202                  NaN       0.579710            NaN            NaN   \n",
              "\n",
              "       Family_Hist_5  Medical_History_1  Medical_History_10  \\\n",
              "53217       0.419643                NaN                 NaN   \n",
              "7422        0.446429                6.0                 NaN   \n",
              "3387             NaN               11.0                 NaN   \n",
              "54280            NaN                5.0                 NaN   \n",
              "56112       0.580357                2.0                 NaN   \n",
              "1724             NaN                4.0                 NaN   \n",
              "49924       0.598214                0.0                 NaN   \n",
              "32463            NaN               32.0                 NaN   \n",
              "39836       0.562500               12.0                 NaN   \n",
              "39560            NaN                7.0                 NaN   \n",
              "9644             NaN                5.0                 NaN   \n",
              "21775       0.464286                4.0                 NaN   \n",
              "50014            NaN                0.0                 NaN   \n",
              "32209            NaN                1.0                 NaN   \n",
              "7133             NaN                3.0                 NaN   \n",
              "56094            NaN                3.0                 NaN   \n",
              "43160       0.607143                4.0                 NaN   \n",
              "33735       0.696429                0.0                 NaN   \n",
              "36787            NaN                3.0                 NaN   \n",
              "43202       0.339286               46.0                 NaN   \n",
              "\n",
              "       Medical_History_15  Medical_History_24  Medical_History_32  \n",
              "53217                 0.0                 NaN                 NaN  \n",
              "7422                  NaN                 1.0                 NaN  \n",
              "3387                  NaN                 NaN                 NaN  \n",
              "54280                 NaN                 NaN                 NaN  \n",
              "56112                 NaN                 NaN                 NaN  \n",
              "1724                182.0                 NaN                 NaN  \n",
              "49924                 0.0                 NaN                 NaN  \n",
              "32463                 NaN                 NaN                 NaN  \n",
              "39836                 NaN                 NaN                 NaN  \n",
              "39560               146.0                 NaN                 NaN  \n",
              "9644                  NaN                 NaN                 NaN  \n",
              "21775                 NaN                 NaN                 NaN  \n",
              "50014                 NaN                 NaN                 NaN  \n",
              "32209                 NaN                 NaN                 NaN  \n",
              "7133                  0.0                 NaN                 NaN  \n",
              "56094                 NaN                 NaN                 NaN  \n",
              "43160                 NaN                 NaN                 NaN  \n",
              "33735                 NaN                 NaN                 NaN  \n",
              "36787                 NaN                 NaN                 NaN  \n",
              "43202                 NaN                 NaN                 NaN  "
            ]
          },
          "execution_count": 4,
          "metadata": {},
          "output_type": "execute_result"
        }
      ],
      "source": [
        "insurance_data[['Employment_Info_1', 'Employment_Info_4', 'Employment_Info_6',\n",
        "       'Insurance_History_5', 'Family_Hist_2', 'Family_Hist_3',\n",
        "       'Family_Hist_4', 'Family_Hist_5', 'Medical_History_1',\n",
        "       'Medical_History_10', 'Medical_History_15', 'Medical_History_24',\n",
        "       'Medical_History_32']].sample(20)"
      ]
    },
    {
      "cell_type": "code",
      "execution_count": 5,
      "metadata": {
        "colab": {
          "base_uri": "https://localhost:8080/"
        },
        "id": "Qt-dVEChsndZ",
        "outputId": "7c91f626-bdd0-4f25-d4b1-9381fa25c461"
      },
      "outputs": [
        {
          "name": "stdout",
          "output_type": "stream",
          "text": [
            "(59381, 128)\n"
          ]
        },
        {
          "data": {
            "text/plain": [
              "Employment_Info_1         19\n",
              "Employment_Info_4       6779\n",
              "Employment_Info_6      10854\n",
              "Insurance_History_5    25396\n",
              "Family_Hist_2          28656\n",
              "Family_Hist_3          34241\n",
              "Family_Hist_4          19184\n",
              "Family_Hist_5          41811\n",
              "Medical_History_1       8889\n",
              "Medical_History_10     58824\n",
              "Medical_History_15     44596\n",
              "Medical_History_24     55580\n",
              "Medical_History_32     58274\n",
              "dtype: int64"
            ]
          },
          "execution_count": 5,
          "metadata": {},
          "output_type": "execute_result"
        }
      ],
      "source": [
        "print(insurance_data.shape)\n",
        "insurance_data[['Employment_Info_1', 'Employment_Info_4', 'Employment_Info_6',\n",
        "       'Insurance_History_5', 'Family_Hist_2', 'Family_Hist_3',\n",
        "       'Family_Hist_4', 'Family_Hist_5', 'Medical_History_1',\n",
        "       'Medical_History_10', 'Medical_History_15', 'Medical_History_24',\n",
        "       'Medical_History_32']].isna().sum()"
      ]
    },
    {
      "cell_type": "code",
      "execution_count": 6,
      "metadata": {
        "colab": {
          "base_uri": "https://localhost:8080/"
        },
        "id": "CqzQgACFtAOU",
        "outputId": "f3206250-2174-49ba-d9f0-3598bf09c8ba"
      },
      "outputs": [
        {
          "name": "stdout",
          "output_type": "stream",
          "text": [
            "            Column Name  Missing Count  Percentage Missing\n",
            "0     Employment_Info_1             19            0.031997\n",
            "1     Employment_Info_4           6779           11.416110\n",
            "2     Employment_Info_6          10854           18.278574\n",
            "3   Insurance_History_5          25396           42.767889\n",
            "4         Family_Hist_2          28656           48.257860\n",
            "5         Family_Hist_3          34241           57.663226\n",
            "6         Family_Hist_4          19184           32.306630\n",
            "7         Family_Hist_5          41811           70.411411\n",
            "8     Medical_History_1           8889           14.969435\n",
            "9    Medical_History_10          58824           99.061990\n",
            "10   Medical_History_15          44596           75.101463\n",
            "11   Medical_History_24          55580           93.598963\n",
            "12   Medical_History_32          58274           98.135767\n"
          ]
        }
      ],
      "source": [
        "total_rows = len(insurance_data)\n",
        "\n",
        "missing_count = insurance_data[['Employment_Info_1', 'Employment_Info_4', 'Employment_Info_6',\n",
        "       'Insurance_History_5', 'Family_Hist_2', 'Family_Hist_3',\n",
        "       'Family_Hist_4', 'Family_Hist_5', 'Medical_History_1',\n",
        "       'Medical_History_10', 'Medical_History_15', 'Medical_History_24',\n",
        "       'Medical_History_32']].isnull().sum()\n",
        "\n",
        "percentage_missing = (missing_count / total_rows) * 100\n",
        "\n",
        "missing_data_summary = pd.DataFrame({\n",
        "    'Column Name': missing_count.index,\n",
        "    'Missing Count': missing_count.values,\n",
        "    'Percentage Missing': percentage_missing.values\n",
        "})\n",
        "\n",
        "print(missing_data_summary)\n",
        "\n",
        "\n"
      ]
    },
    {
      "cell_type": "markdown",
      "metadata": {
        "id": "j8qYE8_bx5Ql"
      },
      "source": [
        "For the columns whose missing percentage is less than 15 percent we will fill with median. Columns that will be processed with median are\n",
        "\n",
        "*   Employment_Info_1\n",
        "*   Employment_Info_4\n",
        "*   Medical_History_1\n",
        "\n",
        "For columns with more than 75 percentage of data missing will be drop, column that will be dropped are:\n",
        "*   Medical_History_10  \n",
        "*   Medical_History_32\n",
        "*   Medical_History_24\n",
        "*   Medical_History_15\n",
        "\n",
        "rest of the column are\n",
        "\n",
        "\n",
        "**'Employment_Info_6','Insurance_History_5', 'Family_Hist_2','Family_Hist_3','Family_Hist_4', 'Family_Hist_5'**\n",
        "\n",
        "we will use MICE.Multiple Imputation by Chained Equations (MICE) imputation method iteratively imputes missing values for each variable using regression models."
      ]
    },
    {
      "cell_type": "code",
      "execution_count": 7,
      "metadata": {
        "id": "WZ-t5bIC01LY"
      },
      "outputs": [],
      "source": [
        "#fill with median\n",
        "insurance_data['Employment_Info_1'].fillna(insurance_data['Employment_Info_1'].median(),inplace=True)\n",
        "insurance_data['Employment_Info_4'].fillna(insurance_data['Employment_Info_4'].median(),inplace=True)\n",
        "insurance_data['Medical_History_1'].fillna(insurance_data['Medical_History_1'].median(),inplace=True)\n"
      ]
    },
    {
      "cell_type": "code",
      "execution_count": 8,
      "metadata": {
        "id": "mZqmQ_GA01r4"
      },
      "outputs": [],
      "source": [
        "# drop the columns with more than 75% missing data\n",
        "insurance_data.drop(['Medical_History_10','Medical_History_15','Medical_History_24','Medical_History_32'],axis=1,inplace=True)"
      ]
    },
    {
      "cell_type": "code",
      "execution_count": 9,
      "metadata": {
        "colab": {
          "base_uri": "https://localhost:8080/"
        },
        "id": "PsqPfAtc5N_S",
        "outputId": "0774d28c-427e-49d3-95b8-8846351727ea"
      },
      "outputs": [
        {
          "data": {
            "text/plain": [
              "['Product_Info_2']"
            ]
          },
          "execution_count": 9,
          "metadata": {},
          "output_type": "execute_result"
        }
      ],
      "source": [
        "insurance_data.select_dtypes(include=['object', 'category']).columns.tolist()"
      ]
    },
    {
      "cell_type": "code",
      "execution_count": 10,
      "metadata": {
        "colab": {
          "base_uri": "https://localhost:8080/"
        },
        "id": "xVX9IMRv5s7T",
        "outputId": "3fe6fdc6-8631-47c1-e3d0-27fe49ce5cde"
      },
      "outputs": [
        {
          "data": {
            "text/plain": [
              "D3    14321\n",
              "D4    10812\n",
              "A8     6835\n",
              "D1     6554\n",
              "D2     6286\n",
              "E1     2647\n",
              "A1     2363\n",
              "A6     2098\n",
              "A2     1974\n",
              "A7     1383\n",
              "B2     1122\n",
              "A3      977\n",
              "A5      775\n",
              "C3      306\n",
              "C1      285\n",
              "C4      219\n",
              "A4      210\n",
              "C2      160\n",
              "B1       54\n",
              "Name: Product_Info_2, dtype: int64"
            ]
          },
          "execution_count": 10,
          "metadata": {},
          "output_type": "execute_result"
        }
      ],
      "source": [
        "insurance_data.Product_Info_2.value_counts()"
      ]
    },
    {
      "cell_type": "code",
      "execution_count": 11,
      "metadata": {
        "id": "6kVchTWi4Xnd"
      },
      "outputs": [],
      "source": [
        "\n",
        "value_counts = insurance_data['Product_Info_2'].value_counts()\n",
        "\n",
        "# Create a mapping dictionary based on the frequency order\n",
        "mapping_dict = {value: index + 1 for index, (value, count) in enumerate(value_counts.items())}\n",
        "\n",
        "# Map the values in the 'Product_Info_2' column to integers\n",
        "insurance_data['Product_Info_2'] = insurance_data['Product_Info_2'].map(mapping_dict)\n"
      ]
    },
    {
      "cell_type": "code",
      "execution_count": 13,
      "metadata": {
        "id": "21Gk8LMb2IY-"
      },
      "outputs": [],
      "source": [
        "imputer = IterativeImputer()  # Multiple Imputation by Chained Equations (MICE) imputation method iteratively imputes missing values for each variable using regression models.\n",
        "insurance_data = imputer.fit_transform(insurance_data)"
      ]
    },
    {
      "cell_type": "code",
      "execution_count": 21,
      "metadata": {
        "colab": {
          "base_uri": "https://localhost:8080/"
        },
        "id": "2_R2TKZK2IL8",
        "outputId": "bda30757-cccb-418d-d36d-4e4c9a8026e0"
      },
      "outputs": [
        {
          "data": {
            "text/plain": [
              "True"
            ]
          },
          "execution_count": 21,
          "metadata": {},
          "output_type": "execute_result"
        }
      ],
      "source": [
        "import numpy as np\n",
        "missing_values = np.isnan(insurance_data)\n",
        "# columns_with_missing_values = missing_values.any()\n",
        "np.all(missing_values==False)"
      ]
    },
    {
      "cell_type": "markdown",
      "metadata": {
        "id": "QCJm8FAJ9alC"
      },
      "source": [
        "## none of the columns contains nan, imputation is done"
      ]
    },
    {
      "cell_type": "code",
      "execution_count": 26,
      "metadata": {
        "id": "jf4VNNs79zK6"
      },
      "outputs": [],
      "source": [
        "temp = pd.read_csv('./train.csv')\n",
        "temp.drop(['Medical_History_10','Medical_History_15','Medical_History_24','Medical_History_32'],axis=1,inplace=True)\n",
        "df = pd.DataFrame(insurance_data, columns = temp.columns)\n"
      ]
    },
    {
      "cell_type": "code",
      "execution_count": 27,
      "metadata": {
        "colab": {
          "base_uri": "https://localhost:8080/"
        },
        "id": "-T3Y19cNthUy",
        "outputId": "ec8cd1a7-8dd3-435f-8175-ae5c90d525cf"
      },
      "outputs": [
        {
          "name": "stdout",
          "output_type": "stream",
          "text": [
            "Highly correlated features:\n",
            "Insurance_History_9 and Insurance_History_4 are highly correlated.\n",
            "Employment_Info_3 and Employment_Info_2 are highly correlated.\n",
            "Insurance_History_9 and Insurance_History_3 are highly correlated.\n",
            "Medical_History_36 and Medical_History_26 are highly correlated.\n",
            "Family_Hist_4 and Ins_Age are highly correlated.\n",
            "Medical_Keyword_3 and Medical_History_39 are highly correlated.\n",
            "Employment_Info_5 and Product_Info_3 are highly correlated.\n",
            "Insurance_History_7 and Insurance_History_4 are highly correlated.\n",
            "Medical_History_26 and Medical_History_25 are highly correlated.\n",
            "Medical_Keyword_30 and Medical_History_19 are highly correlated.\n",
            "Medical_Keyword_48 and Medical_History_6 are highly correlated.\n",
            "Insurance_History_7 and Insurance_History_3 are highly correlated.\n",
            "Family_Hist_4 and Family_Hist_2 are highly correlated.\n",
            "Insurance_History_8 and Insurance_History_1 are highly correlated.\n",
            "InsuredInfo_6 and Ht are highly correlated.\n",
            "BMI and Wt are highly correlated.\n",
            "Insurance_History_9 and Insurance_History_7 are highly correlated.\n",
            "Medical_Keyword_15 and Medical_History_23 are highly correlated.\n",
            "Insurance_History_4 and Insurance_History_3 are highly correlated.\n",
            "Medical_History_36 and Medical_History_25 are highly correlated.\n",
            "Medical_Keyword_11 and Medical_History_37 are highly correlated.\n",
            "Family_Hist_2 and Ins_Age are highly correlated.\n",
            "Medical_Keyword_23 and Medical_History_33 are highly correlated.\n"
          ]
        }
      ],
      "source": [
        "import pandas as pd\n",
        "import seaborn as sns\n",
        "import matplotlib.pyplot as plt\n",
        "\n",
        "\n",
        "input_variables = df\n",
        "\n",
        "# Calculate correlation matrix\n",
        "correlation_matrix = input_variables.corr()\n",
        "\n",
        "correlation_threshold = 0.7  \n",
        "\n",
        "# Find highly correlated features\n",
        "highly_correlated_features = set()\n",
        "for i in range(len(correlation_matrix.columns)):\n",
        "    for j in range(i):\n",
        "        if abs(correlation_matrix.iloc[i, j]) > correlation_threshold:\n",
        "            feature1 = correlation_matrix.columns[i]\n",
        "            feature2 = correlation_matrix.columns[j]\n",
        "            highly_correlated_features.add((feature1, feature2))\n",
        "\n",
        "# Print the list of highly correlated features\n",
        "print(\"Highly correlated features:\")\n",
        "for feature1, feature2 in highly_correlated_features:\n",
        "    print(f\"{feature1} and {feature2} are highly correlated.\")\n"
      ]
    },
    {
      "cell_type": "markdown",
      "metadata": {
        "id": "4UGCXhUg9cdE"
      },
      "source": [
        "## columns pair with multi collinearity"
      ]
    },
    {
      "cell_type": "code",
      "execution_count": 29,
      "metadata": {
        "colab": {
          "base_uri": "https://localhost:8080/",
          "height": 653
        },
        "id": "JZA0TexYwNEn",
        "outputId": "4f2bc976-83ce-440d-d227-4239a95b1711"
      },
      "outputs": [
        {
          "name": "stdout",
          "output_type": "stream",
          "text": [
            "Top Three Most Important Features:\n",
            "               Feature  Importance\n",
            "11                 BMI    0.168415\n",
            "41   Medical_History_4    0.049458\n",
            "58  Medical_History_23    0.045220\n"
          ]
        },
        {
          "data": {
            "image/png": "[encoded data removed]",
            "text/plain": [
              "<Figure size 1000x600 with 1 Axes>"
            ]
          },
          "metadata": {},
          "output_type": "display_data"
        }
      ],
      "source": [
        "import pandas as pd\n",
        "from sklearn.ensemble import RandomForestRegressor\n",
        "import matplotlib.pyplot as plt\n",
        "\n",
        "X = df[df.columns[:-1]] \n",
        "y = df['Response'] \n",
        "model = RandomForestRegressor(n_estimators=100, random_state=42)\n",
        "\n",
        "model.fit(X, y)\n",
        "\n",
        "feature_importances = model.feature_importances_\n",
        "\n",
        "\n",
        "feature_importance_df = pd.DataFrame({'Feature': X.columns, 'Importance': feature_importances})\n",
        "\n",
        "\n",
        "feature_importance_df = feature_importance_df.sort_values(by='Importance', ascending=False)\n",
        "\n",
        "\n",
        "top_three_features = feature_importance_df.head(3)\n",
        "\n",
        "\n",
        "print(\"Top Three Most Important Features:\")\n",
        "print(top_three_features)\n",
        "\n",
        "\n",
        "plt.figure(figsize=(10, 6))\n",
        "sns.barplot(x='Importance', y='Feature', data=top_three_features, palette='viridis')\n",
        "plt.title('Top Three Most Important Features')\n",
        "plt.xlabel('Importance')\n",
        "plt.ylabel('Feature')\n",
        "plt.show()\n"
      ]
    },
    {
      "cell_type": "code",
      "execution_count": null,
      "metadata": {
        "id": "NGNN_3-4wps3"
      },
      "outputs": [],
      "source": []
    }
  ],
  "metadata": {
    "colab": {
      "provenance": []
    },
    "kernelspec": {
      "display_name": "Python 3",
      "name": "python3"
    },
    "language_info": {
      "name": "python"
    }
  },
  "nbformat": 4,
  "nbformat_minor": 0
}
