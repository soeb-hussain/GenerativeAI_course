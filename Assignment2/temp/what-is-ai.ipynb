{
 "cells": [
  {
   "cell_type": "markdown",
   "id": "62247aa7",
   "metadata": {},
   "source": [
    "<div style=\"text-align: right\">INFO 6105 Data Science Eng Methods and Tools, Lecture 2 Day 3</div>\n",
    "<div style=\"text-align: right\">Dino Konstantopoulos, 18 September 2023</div>"
   ]
  },
  {
   "cell_type": "markdown",
   "id": "5acd03ac",
   "metadata": {},
   "source": [
    "# Playing with `exec` and `eval`\n",
    "\n",
    "<br />\n",
    "<br />\n",
    "<center>\n",
    "<img src = ipynb.images/exec.jpg width = 900 />\n",
    "</center>\n",
    "<br />\n",
    "\n",
    "Python's `exec` runs a program written as a string, and `eval` evaluates a python expression:"
   ]
  },
  {
   "cell_type": "code",
   "execution_count": 152,
   "id": "84698a50",
   "metadata": {},
   "outputs": [
    {
     "name": "stdout",
     "output_type": "stream",
     "text": [
      "The output of the code present in the string is \n",
      "9\n",
      "None\n"
     ]
    }
   ],
   "source": [
    "str1 = \"\"\"\n",
    "\n",
    "a = 3\n",
    "b = 6\n",
    "res = a + b\n",
    "\n",
    "print(res)\n",
    "\"\"\"\n",
    "\n",
    "print(\"The output of the code present in the string is \")\n",
    "print(exec(str1))"
   ]
  },
  {
   "cell_type": "code",
   "execution_count": 2,
   "id": "fc7e3e40",
   "metadata": {},
   "outputs": [
    {
     "ename": "NameError",
     "evalue": "name 'foo' is not defined",
     "output_type": "error",
     "traceback": [
      "\u001b[1;31m---------------------------------------------------------------------------\u001b[0m",
      "\u001b[1;31mNameError\u001b[0m                                 Traceback (most recent call last)",
      "\u001b[1;32m<ipython-input-2-f58ea54cdd91>\u001b[0m in \u001b[0;36m<module>\u001b[1;34m\u001b[0m\n\u001b[1;32m----> 1\u001b[1;33m \u001b[0mprint\u001b[0m\u001b[1;33m(\u001b[0m\u001b[0mexec\u001b[0m\u001b[1;33m(\u001b[0m\u001b[1;34m\"foo\"\u001b[0m\u001b[1;33m)\u001b[0m\u001b[1;33m)\u001b[0m\u001b[1;33m\u001b[0m\u001b[1;33m\u001b[0m\u001b[0m\n\u001b[0m",
      "\u001b[1;32m<string>\u001b[0m in \u001b[0;36m<module>\u001b[1;34m\u001b[0m\n",
      "\u001b[1;31mNameError\u001b[0m: name 'foo' is not defined"
     ]
    }
   ],
   "source": [
    "print(exec(\"foo\"))"
   ]
  },
  {
   "cell_type": "code",
   "execution_count": 3,
   "id": "edc823b1",
   "metadata": {},
   "outputs": [
    {
     "name": "stdout",
     "output_type": "stream",
     "text": [
      "The output of the code present in the string is \n",
      "8\n"
     ]
    }
   ],
   "source": [
    "str1 = \"3 + 5\"\n",
    "\n",
    "print(\"The output of the code present in the string is \")\n",
    "print(eval(str1))"
   ]
  },
  {
   "cell_type": "markdown",
   "id": "c3bca3fc",
   "metadata": {},
   "source": [
    "# Passing arguments and saving outputs"
   ]
  },
  {
   "cell_type": "code",
   "execution_count": 4,
   "id": "85caa5c9",
   "metadata": {},
   "outputs": [],
   "source": [
    "str1 = \"\"\"\n",
    "a = random.randint(1, n-1)\n",
    "\n",
    "if pow(a, n-1) % n != 1:\n",
    "    print('False')\n",
    "else:\n",
    "    print('True')\n",
    "\"\"\"\n"
   ]
  },
  {
   "cell_type": "code",
   "execution_count": 5,
   "id": "99eaadd1",
   "metadata": {},
   "outputs": [
    {
     "ename": "SyntaxError",
     "evalue": "invalid syntax (<string>, line 2)",
     "output_type": "error",
     "traceback": [
      "Traceback \u001b[1;36m(most recent call last)\u001b[0m:\n",
      "  File \u001b[0;32m\"d:\\Anaconda3.5.1\\lib\\site-packages\\IPython\\core\\interactiveshell.py\"\u001b[0m, line \u001b[0;32m3343\u001b[0m, in \u001b[0;35mrun_code\u001b[0m\n    exec(code_obj, self.user_global_ns, self.user_ns)\n",
      "\u001b[1;36m  File \u001b[1;32m\"<ipython-input-5-2abc4923ba52>\"\u001b[1;36m, line \u001b[1;32m1\u001b[1;36m, in \u001b[1;35m<module>\u001b[1;36m\u001b[0m\n\u001b[1;33m    print(eval(str1))\u001b[0m\n",
      "\u001b[1;36m  File \u001b[1;32m\"<string>\"\u001b[1;36m, line \u001b[1;32m2\u001b[0m\n\u001b[1;33m    a = random.randint(1, n-1)\u001b[0m\n\u001b[1;37m      ^\u001b[0m\n\u001b[1;31mSyntaxError\u001b[0m\u001b[1;31m:\u001b[0m invalid syntax\n"
     ]
    }
   ],
   "source": [
    "print(eval(str1))"
   ]
  },
  {
   "cell_type": "code",
   "execution_count": 6,
   "id": "f034f576",
   "metadata": {},
   "outputs": [
    {
     "name": "stdout",
     "output_type": "stream",
     "text": [
      "True\n"
     ]
    }
   ],
   "source": [
    "import random\n",
    "\n",
    "# set globals parameter to none\n",
    "globalsParameter = {}\n",
    "\n",
    "# set locals parameter to take only print() and dir()\n",
    "localsParameter = {'n': 41, 'random': random}\n",
    "\n",
    "# print the accessible method directory\n",
    "exec(str1, globalsParameter, localsParameter)"
   ]
  },
  {
   "cell_type": "markdown",
   "id": "89421dd7",
   "metadata": {},
   "source": [
    "# Passing functions as arguments"
   ]
  },
  {
   "cell_type": "code",
   "execution_count": 11,
   "id": "4f847123",
   "metadata": {},
   "outputs": [],
   "source": [
    "str1 = \"\"\"\n",
    "\n",
    "print(foo(a))\n",
    "a = random.randint(1, n-1)\n",
    "print(a)\n",
    "\n",
    "\"\"\""
   ]
  },
  {
   "cell_type": "code",
   "execution_count": 12,
   "id": "4b9e1c95",
   "metadata": {},
   "outputs": [
    {
     "name": "stdout",
     "output_type": "stream",
     "text": [
      "100\n",
      "15698\n",
      "100\n"
     ]
    }
   ],
   "source": [
    "import random\n",
    "\n",
    "# set globals parameter to none\n",
    "globalsParameter = {}\n",
    "\n",
    "# set locals parameter to take only print() and dir()\n",
    "b = 0\n",
    "def foo(x):\n",
    "    global b\n",
    "    x = x * x\n",
    "    b = x\n",
    "    return x\n",
    "localsParameter = {'n': 30121, 'random': random, 'foo': foo, 'a': 10}\n",
    "\n",
    "# print the accessible method directory\n",
    "n = 41\n",
    "exec(str1, globalsParameter, localsParameter)\n",
    "print(b)"
   ]
  },
  {
   "cell_type": "markdown",
   "id": "d7ef57c9",
   "metadata": {},
   "source": [
    "# Saving output"
   ]
  },
  {
   "cell_type": "code",
   "execution_count": 13,
   "id": "49d5f37e",
   "metadata": {},
   "outputs": [],
   "source": [
    "str1 = \"\"\"\n",
    "\n",
    "print(a)\n",
    "a = random.randint(1, n-1)\n",
    "print(a)\n",
    "_save(a)\n",
    "print('done.')\n",
    "\n",
    "\"\"\""
   ]
  },
  {
   "cell_type": "code",
   "execution_count": 14,
   "id": "886b4e8d",
   "metadata": {},
   "outputs": [
    {
     "name": "stdout",
     "output_type": "stream",
     "text": [
      "10\n",
      "24015\n",
      "done.\n",
      "24015\n"
     ]
    }
   ],
   "source": [
    "import random\n",
    "\n",
    "# set globals parameter to none\n",
    "globalsParameter = {}\n",
    "\n",
    "# set locals parameter to take only print() and dir()\n",
    "output = 0\n",
    "def _save(x):\n",
    "    global output\n",
    "    output = x\n",
    "    return None\n",
    "localsParameter = {'n': 30121, 'random': random, '_save': _save, 'a': 10}\n",
    "\n",
    "# print the accessible method directory\n",
    "n = 41\n",
    "exec(str1, globalsParameter, localsParameter)\n",
    "print(output)"
   ]
  },
  {
   "cell_type": "markdown",
   "id": "ba0c4dec",
   "metadata": {},
   "source": [
    "# Alan Turing's tape\n",
    "A [Turing machine](https://en.wikipedia.org/wiki/Turing_machine) is a mathematical model of computation describing an abstract machine that manipulates symbols on a strip of tape according to a table of rules.\n",
    "\n",
    "Despite the model's simplicity, it is capable of implementing any computer algorithm.\n",
    "\n",
    "Let's implement the \"*Tape*\":"
   ]
  },
  {
   "cell_type": "code",
   "execution_count": 15,
   "id": "27755762",
   "metadata": {},
   "outputs": [],
   "source": [
    "str1 = \"\"\"\n",
    "\n",
    "print(a)\n",
    "a = random.randint(1, n-1)\n",
    "print(a)\n",
    "_save(a)\n",
    "print('done.')\n",
    "\n",
    "\"\"\""
   ]
  },
  {
   "cell_type": "code",
   "execution_count": 16,
   "id": "0fa3b487",
   "metadata": {},
   "outputs": [
    {
     "name": "stdout",
     "output_type": "stream",
     "text": [
      "10\n",
      "6464\n",
      "done.\n",
      "[6464]\n"
     ]
    }
   ],
   "source": [
    "import random\n",
    "\n",
    "# set globals parameter to none\n",
    "globalsParameter = {}\n",
    "\n",
    "# set locals parameter to take only print() and dir()\n",
    "tape = []\n",
    "def _save(x):\n",
    "    global tape\n",
    "    tape.append(x)\n",
    "    return None\n",
    "localsParameter = {'n': 30121, 'random': random, '_save': _save, 'a': 10}\n",
    "\n",
    "# print the accessible method directory\n",
    "n = 41\n",
    "exec(str1, globalsParameter, localsParameter)\n",
    "print(tape)"
   ]
  },
  {
   "cell_type": "code",
   "execution_count": 17,
   "id": "f1f1b7eb",
   "metadata": {},
   "outputs": [
    {
     "name": "stdout",
     "output_type": "stream",
     "text": [
      "6464\n",
      "23043\n",
      "done.\n",
      "[6464, 23043]\n"
     ]
    }
   ],
   "source": [
    "exec(str1, globalsParameter, localsParameter)\n",
    "print(tape)"
   ]
  },
  {
   "cell_type": "markdown",
   "id": "894ced9b",
   "metadata": {},
   "source": [
    "# Eschewing Alan Turing's undecidable puzzle"
   ]
  },
  {
   "cell_type": "markdown",
   "id": "05151cac",
   "metadata": {},
   "source": [
    "Alan Turing proved the existence of ***uncomputable*** problems nearly a century ago, in the same paper where he formulated the mathematical model of computation that launched modern computer science.\n",
    "\n",
    "Turing proved this groundbreaking result using a counterintuitive strategy: He defined a problem that simply rejects every attempt to solve it.\n",
    "\n",
    "This is how Turing defined his uncomputable problem: “*Given an input string representing the code of an algorithm, output 1 if that algorithm outputs 0 when its own code is the input; otherwise, output 0*.” Every algorithm that tries to solve this problem will produce the wrong output on at least one input — namely, the input corresponding to its own code. That means this perverse problem can’t be solved by any algorithm whatsoever.\n",
    "\n",
    "Here is an algorithm that outputs 0 when its own code is the input, otherwise 1"
   ]
  },
  {
   "cell_type": "code",
   "execution_count": 18,
   "id": "4d7df8a5",
   "metadata": {},
   "outputs": [],
   "source": [
    "str1 = \"\"\"\n",
    "\n",
    "if input == str1:\n",
    "    _save(0)\n",
    "else:\n",
    "    _save(1)\n",
    "\n",
    "\"\"\""
   ]
  },
  {
   "cell_type": "markdown",
   "id": "01e2e7ae",
   "metadata": {},
   "source": [
    "When `input` is `str1`:"
   ]
  },
  {
   "cell_type": "code",
   "execution_count": 20,
   "id": "a757eee6",
   "metadata": {},
   "outputs": [
    {
     "name": "stdout",
     "output_type": "stream",
     "text": [
      "[0]\n"
     ]
    }
   ],
   "source": [
    "import random\n",
    "\n",
    "# set globals parameter to none\n",
    "globalsParameter = {}\n",
    "\n",
    "# set locals parameter to take only print() and dir()\n",
    "tape = []\n",
    "def _save(x):\n",
    "    global tape\n",
    "    tape.append(x)\n",
    "    return None\n",
    "localsParameter = {'input': str1, 'str1': str1, '_save': _save}\n",
    "\n",
    "# print the accessible method directory\n",
    "exec(str1, globalsParameter, localsParameter)\n",
    "print(tape)"
   ]
  },
  {
   "cell_type": "markdown",
   "id": "fa875202",
   "metadata": {},
   "source": [
    "When `input` ***isn't***  `str1`:"
   ]
  },
  {
   "cell_type": "code",
   "execution_count": 21,
   "id": "b5762347",
   "metadata": {},
   "outputs": [
    {
     "name": "stdout",
     "output_type": "stream",
     "text": [
      "[0, 1]\n"
     ]
    }
   ],
   "source": [
    "localsParameter = {'input': \"a different program string\", 'str1': str1, '_save': _save}\n",
    "exec(str1, globalsParameter, localsParameter)\n",
    "print(tape)"
   ]
  },
  {
   "cell_type": "markdown",
   "id": "6bc59267",
   "metadata": {},
   "source": [
    "Now, here is Alan Turing's undecidable algorithm:\n",
    "\n",
    ">Given an input string representing the code of an algorithm, output:\n",
    "- 1 if \\[that algorithm outputs 0 when its own code is the input, otherwise 1\\]\n",
    "- 0 otherwise\n",
    "\n",
    "That means we have to execute the algorithm in question and examine its output before we can output a `0` or a `1`!\n",
    "\n",
    "This is the initial algorithm:"
   ]
  },
  {
   "cell_type": "code",
   "execution_count": 12,
   "id": "478e9af3",
   "metadata": {},
   "outputs": [],
   "source": [
    "str1 = \"\"\"\n",
    "\n",
    "if input == str1:\n",
    "    _save(0)\n",
    "else:\n",
    "    _save(1)\n",
    "\n",
    "\"\"\""
   ]
  },
  {
   "cell_type": "markdown",
   "id": "7cd30fee",
   "metadata": {},
   "source": [
    "And this is the algorithm that runs the algorithm above and examines its output:"
   ]
  },
  {
   "cell_type": "code",
   "execution_count": 23,
   "id": "a1d136b4",
   "metadata": {},
   "outputs": [],
   "source": [
    "str2 = \"\"\"\n",
    "\n",
    "exec(str1, globalsParameter, localsParameter)\n",
    "if tape[-1] == 0 and input == str1:\n",
    "    _save(1)\n",
    "else:\n",
    "    _save(0)\n",
    "\n",
    "\n",
    "\"\"\""
   ]
  },
  {
   "cell_type": "markdown",
   "id": "1febce28",
   "metadata": {},
   "source": [
    "This is how we run the algorithm `str2`, when the input to the algorithm `str1` is `str1`:"
   ]
  },
  {
   "cell_type": "code",
   "execution_count": 24,
   "id": "9272f5c3",
   "metadata": {},
   "outputs": [
    {
     "name": "stdout",
     "output_type": "stream",
     "text": [
      "[0, 1]\n"
     ]
    }
   ],
   "source": [
    "tape = []\n",
    "localsParameter = {'input': str1, 'str1': str1, '_save': _save,\n",
    "                  'localsParameter': localsParameter, 'globalsParameter': globalsParameter, 'tape': tape}\n",
    "exec(str2, globalsParameter, localsParameter)\n",
    "print(tape)"
   ]
  },
  {
   "cell_type": "markdown",
   "id": "695919c8",
   "metadata": {},
   "source": [
    "This is how we run the algorithm `str2`, when the input to the algorithm `str1` ***isn't*** `str1`:"
   ]
  },
  {
   "cell_type": "code",
   "execution_count": 25,
   "id": "523c63d4",
   "metadata": {},
   "outputs": [
    {
     "name": "stdout",
     "output_type": "stream",
     "text": [
      "[0, 0]\n"
     ]
    }
   ],
   "source": [
    "tape = []\n",
    "localsParameter = {'input': \"i = 2\", 'str1': str1, '_save': _save,\n",
    "                  'localsParameter': localsParameter, 'globalsParameter': globalsParameter, 'tape': tape}\n",
    "exec(str2, globalsParameter, localsParameter)\n",
    "print(tape)"
   ]
  },
  {
   "cell_type": "markdown",
   "id": "d75fa5a0",
   "metadata": {},
   "source": [
    "We see that in the second case above (input to the algorithm `str1` ***isn't*** `str1`), the results is consistent and the program outputs a `0`. But in the first case above (input to the algorithm `str1` ***is*** `str1`), the results is inconsistent.\n",
    "\n",
    "Now, the way Alan Turing meant the program to run was to output a single result, either a `0` or a `1`, because `str1` and `str2` are meant to be the *same* algorithm!\n",
    "\n",
    "Can we make them the *same* algorithm and run it?"
   ]
  },
  {
   "cell_type": "code",
   "execution_count": 26,
   "id": "2154eca5",
   "metadata": {},
   "outputs": [],
   "source": [
    "str1 = \"\"\"\n",
    "\n",
    "exec(input, globalsParameter, localsParameter)\n",
    "if tape[-1] == 0 and input == str1:\n",
    "    _save(1)\n",
    "else:\n",
    "    _save(0)\n",
    "    \n",
    "if input == str1:\n",
    "    _save(0)\n",
    "else:\n",
    "    _save(1)\n",
    "\n",
    "\"\"\""
   ]
  },
  {
   "cell_type": "code",
   "execution_count": 27,
   "id": "37dc6ad9",
   "metadata": {},
   "outputs": [
    {
     "name": "stdout",
     "output_type": "stream",
     "text": [
      "[0, 1, 0, 0]\n"
     ]
    }
   ],
   "source": [
    "tape = []\n",
    "localsParameter = {'input': str1, 'str1': str1, '_save': _save,\n",
    "                  'localsParameter': localsParameter, 'globalsParameter': globalsParameter, 'tape': tape}\n",
    "exec(str1, globalsParameter, localsParameter)\n",
    "print(tape)"
   ]
  },
  {
   "cell_type": "markdown",
   "id": "2e8e9529",
   "metadata": {},
   "source": [
    "Why are we getting 4 outputs instead of just 2?\n",
    "\n",
    "Let's add comments to our program to follow the flow of execution:"
   ]
  },
  {
   "cell_type": "code",
   "execution_count": 28,
   "id": "7b63ec82",
   "metadata": {},
   "outputs": [],
   "source": [
    "str1 = \"\"\"\n",
    "\n",
    "print('Executing input...')\n",
    "exec(input, globalsParameter, localsParameter)\n",
    "print('Examining the output and outputting accordingly...')\n",
    "if tape[-1] == 0 and input == str1:\n",
    "    _save(1)\n",
    "else:\n",
    "    _save(0)\n",
    "    \n",
    "print('Examining the input and outputting accordingly...')\n",
    "if input == str1:\n",
    "    _save(0)\n",
    "else:\n",
    "    _save(1)\n",
    "\n",
    "\"\"\""
   ]
  },
  {
   "cell_type": "code",
   "execution_count": 19,
   "id": "5b3ee776",
   "metadata": {},
   "outputs": [
    {
     "name": "stdout",
     "output_type": "stream",
     "text": [
      "Executing input...\n",
      "Executing input...\n",
      "Examining the output and outputting accordingly...\n",
      "Examining the input and outputting accordingly...\n",
      "Examining the output and outputting accordingly...\n",
      "Examining the input and outputting accordingly...\n",
      "[0, 1, 1, 0, 1, 0]\n"
     ]
    }
   ],
   "source": [
    "tape = []\n",
    "localsParameter = {'input': str1, 'str1': str1, '_save': _save,\n",
    "                  'localsParameter': localsParameter, 'globalsParameter': globalsParameter, 'tape': tape}\n",
    "exec(str1, globalsParameter, localsParameter)\n",
    "print(tape)"
   ]
  },
  {
   "cell_type": "markdown",
   "id": "77607e35",
   "metadata": {},
   "source": [
    "We see that the program *recurses*, and we are *lucky* that somehow the runtime catches that and exits the recursion, because otherwise it would keep going on forever until we run out of program memory.\n",
    "\n",
    "Porgram `str1`'s first command is the call to execute program `str1`, which executes again.... and again, and again...\n",
    "\n",
    "Maybe we can avoid the recursion with a flag. But either way, we can see by looking at the tape that *the output is inconsistent*.\n",
    "\n",
    "Let's try some flags. Come, on, it's a challenge! I'm going to give you a similar problem in your midterm and ask you to do something similar with it..."
   ]
  },
  {
   "cell_type": "code",
   "execution_count": 140,
   "id": "a3c5d8b9",
   "metadata": {},
   "outputs": [],
   "source": [
    "str1 = \"\"\"\n",
    "\n",
    "if not executed:\n",
    "    print('Executing input...')\n",
    "    # Why are we setting localParameter twice? There is a good reason, can you find it?\n",
    "    localsParameter = {'input': str1, 'str1': str1, '_save': _save,\n",
    "                  'localsParameter': localsParameter, 'globalsParameter': globalsParameter, 'tape': tape,\n",
    "                  'executed': True}\n",
    "    localsParameter = {'input': str1, 'str1': str1, '_save': _save,\n",
    "                  'localsParameter': localsParameter, 'globalsParameter': globalsParameter, 'tape': tape,\n",
    "                  'executed': True}\n",
    "    exec(input, globalsParameter, localsParameter)\n",
    "    print('Examining the output and outputting accordingly...')\n",
    "    if tape[-1] == 0 and input == str1:\n",
    "        _save(1)\n",
    "    else:\n",
    "        _save(0)\n",
    "\n",
    "if len(tape) < 2:\n",
    "    print('Examining the input and outputting accordingly...')\n",
    "    if input == str1:\n",
    "        _save(0)\n",
    "    else:\n",
    "        _save(1)\n",
    "\n",
    "\"\"\""
   ]
  },
  {
   "cell_type": "code",
   "execution_count": 146,
   "id": "0b926898",
   "metadata": {},
   "outputs": [
    {
     "name": "stdout",
     "output_type": "stream",
     "text": [
      "Executing input...\n",
      "Examining the input and outputting accordingly...\n",
      "Examining the output and outputting accordingly...\n",
      "[0, 1]\n"
     ]
    }
   ],
   "source": [
    "tape = []\n",
    "localsParameter = {'input': str1, 'str1': str1, '_save': _save,\n",
    "                  'localsParameter': localsParameter, 'globalsParameter': globalsParameter, 'tape': tape,\n",
    "                  'executed': False}\n",
    "exec(str1, globalsParameter, localsParameter)\n",
    "print(tape)"
   ]
  },
  {
   "cell_type": "markdown",
   "id": "4dc15463",
   "metadata": {},
   "source": [
    "Now we don't recurse, and we see that our output is *inconsistent*. So we cannot `return` exclusively either a `0` or a `1` consistently.\n",
    "\n",
    "While if the input is a different algorithm like this one (not self-referential anymore):"
   ]
  },
  {
   "cell_type": "code",
   "execution_count": 147,
   "id": "6f799403",
   "metadata": {},
   "outputs": [],
   "source": [
    "str3 = \"\"\"\n",
    "\n",
    "if input == str1:\n",
    "    _save(0)\n",
    "else:\n",
    "    _save(1)\n",
    "\n",
    "\"\"\""
   ]
  },
  {
   "cell_type": "markdown",
   "id": "eb40a0fb",
   "metadata": {},
   "source": [
    "Then the output is consistently `0`:"
   ]
  },
  {
   "cell_type": "code",
   "execution_count": 148,
   "id": "b060be58",
   "metadata": {},
   "outputs": [
    {
     "name": "stdout",
     "output_type": "stream",
     "text": [
      "Executing input...\n",
      "Examining the output and outputting accordingly...\n",
      "[0, 0]\n"
     ]
    }
   ],
   "source": [
    "tape = []\n",
    "localsParameter = {'input': str3, 'str1': str1, '_save': _save,\n",
    "                  'localsParameter': localsParameter, 'globalsParameter': globalsParameter, 'tape': tape,\n",
    "                  'executed': False}\n",
    "exec(str1, globalsParameter, localsParameter)\n",
    "print(tape)"
   ]
  },
  {
   "cell_type": "markdown",
   "id": "05f47a69",
   "metadata": {},
   "source": [
    "Self-referential programs and statements like \"*this expression is false*\" cause all kinds of logic problems!\n",
    "\n",
    "The reason we cannot *reason* about something in that something's **definition environment** is because *we don't know what that something is* since it has not finished defining itself until we exit its definition environment. Once we've exited that definition environment, then we can enter an **execution environment** that includes it. So these are two very distinct environments that cannot be mixed.\n",
    "\n",
    "That is why we never execute directly from the **blueprint** of a machine. Instead, we use an **execution environment** that instantiates the object defined by its blueprint (its **definition environment**), and *then* executes it.\n",
    "\n",
    "Similarly, in logic problems, when you say \"*this statement is false*\", and then you reason that if the statement is false then it's true, and if it's true then it's false, you are committing a grave error: You are conflating **definition** and **execution**! We first need to read the statement as a definition in order to find out about `statement`, namely that it's false. Only then, can we think about the statement in the context of an execution environment and reason *what does this boolean expression evaluate to*? Well, we know that `statement` is `False` from the sentence in the context of a defintion environment, so `this statement is false` in the context of an execution envrionment evaluates to `True`. And now these results are completely consistent.\n",
    "\n",
    "<br />\n",
    "<center>\n",
    "<img src = ipynb.images/dna.JPG width = 500 />\n",
    "</center>\n",
    "\n",
    "That is why [Ribonucleic acid]() RNA is required to decode [Deoxyribonucleic acid](https://en.wikipedia.org/wiki/DNA) (DNA) and manufacture proteins encoded in the DNA!\n",
    "\n",
    "<br />\n",
    "<center>\n",
    "<img src = ipynb.images/RNA.PNG width = 300 />\n",
    "</center>\n",
    "\n",
    "We cannot decode DNA within the DNA to produce proteins. We need an execution environment and its actor: RNA.\n",
    "\n",
    "Synthesis of RNA is usually catalyzed by an enzyme using DNA as a template, a process known as [transcription](https://en.wikipedia.org/wiki/Transcription_(biology)). \n",
    "\n",
    "Initiation of transcription begins with the binding of the enzyme to a promoter sequence in the DNA. The DNA double helix is unwound by the helicase activity of the enzyme. The enzyme then progresses along the template strand, synthesizing a complementary RNA molecule. That RNA molecule then manufactures the proteins needed for life on Earth.\n",
    "\n",
    "Similarly, a **compiler** or a **runtime** goes through code defined in a blueprint (very often a **class**) and manufactures an **object** that executes to create the output of a program.\n",
    "\n",
    "In other words, when we execute code, it is always in the context of the BIOS or the intermediate runtime (the **execution environment**), and not in the context of the code itself (the **definition envrionment**). This avoids self-referential conundrums like Alan Turing's undecidable algorithm.\n",
    "\n",
    "Read more about the fascinating history and quests behind the birth of computer science [here](https://www.quantamagazine.org/alan-turing-and-the-power-of-negative-thinking-20230905/)."
   ]
  },
  {
   "cell_type": "markdown",
   "id": "f96554d7",
   "metadata": {},
   "source": [
    "# A Chessboard\n",
    "\n",
    "<br />\n",
    "<center>\n",
    "<img src = ipynb.images/chessboard.png width = 300 />\n",
    "</center>\n",
    "\n",
    "Let's use a 2D array to draw a chessboard. \"X\" is black, \"O\" is white\"."
   ]
  },
  {
   "cell_type": "code",
   "execution_count": 29,
   "id": "71eb1c62",
   "metadata": {},
   "outputs": [
    {
     "data": {
      "text/plain": [
       "[['O', 'X', 'O', 'X'],\n",
       " ['X', 'O', 'X', 'O'],\n",
       " ['O', 'X', 'O', 'X'],\n",
       " ['X', 'O', 'X', 'O']]"
      ]
     },
     "execution_count": 29,
     "metadata": {},
     "output_type": "execute_result"
    }
   ],
   "source": [
    "n = 4\n",
    "board = [[\"XO\"[(i+j+n%2+1) % 2] for i in range(n)] for j in range(n)]\n",
    "board"
   ]
  },
  {
   "cell_type": "code",
   "execution_count": 149,
   "id": "c56b736f",
   "metadata": {},
   "outputs": [
    {
     "data": {
      "text/plain": [
       "[[' ', ' ', ' ', ' ', ' ', ' ', ' ', ' '],\n",
       " [' ', ' ', ' ', ' ', ' ', ' ', ' ', ' '],\n",
       " [' ', ' ', ' ', ' ', ' ', ' ', ' ', ' '],\n",
       " [' ', ' ', ' ', ' ', ' ', ' ', ' ', ' '],\n",
       " [' ', ' ', ' ', ' ', ' ', ' ', ' ', ' '],\n",
       " [' ', ' ', ' ', ' ', ' ', ' ', ' ', ' '],\n",
       " [' ', ' ', ' ', ' ', ' ', ' ', ' ', ' '],\n",
       " [' ', ' ', ' ', ' ', ' ', ' ', ' ', ' ']]"
      ]
     },
     "execution_count": 149,
     "metadata": {},
     "output_type": "execute_result"
    }
   ],
   "source": [
    "n = 8\n",
    "[[' '] * n] * n"
   ]
  },
  {
   "cell_type": "markdown",
   "id": "47607327",
   "metadata": {},
   "source": [
    "The above is *not* the same as the below:"
   ]
  },
  {
   "cell_type": "code",
   "execution_count": 36,
   "id": "7f9ea6b5",
   "metadata": {},
   "outputs": [
    {
     "data": {
      "text/plain": [
       "[[' ', ' ', ' ', ' ', ' ', ' ', ' ', ' '],\n",
       " [' ', ' ', ' ', ' ', ' ', ' ', ' ', ' '],\n",
       " [' ', ' ', ' ', ' ', ' ', ' ', ' ', ' '],\n",
       " [' ', ' ', ' ', ' ', ' ', ' ', ' ', ' '],\n",
       " [' ', ' ', ' ', ' ', ' ', ' ', ' ', ' '],\n",
       " [' ', ' ', ' ', ' ', ' ', ' ', ' ', ' '],\n",
       " [' ', ' ', ' ', ' ', ' ', ' ', ' ', ' '],\n",
       " [' ', ' ', ' ', ' ', ' ', ' ', ' ', ' ']]"
      ]
     },
     "execution_count": 36,
     "metadata": {},
     "output_type": "execute_result"
    }
   ],
   "source": [
    "board = [[' ' for i in range(n)] for j in range(n)]\n",
    "board"
   ]
  },
  {
   "cell_type": "markdown",
   "id": "c82e28b5",
   "metadata": {},
   "source": [
    "Can somebody tell me the difference?"
   ]
  },
  {
   "cell_type": "markdown",
   "id": "c5fcdb5d",
   "metadata": {},
   "source": [
    "<div hidden>\n",
    "n = 8\n",
    "board = [[' '] * n] * n\n",
    "board[4][4] = 'X'\n",
    "board\n",
    "    \n",
    "board = [[' ' for i in range(n)] for j in range(n)]\n",
    "board[4][4] = 'X'\n",
    "board"
   ]
  },
  {
   "cell_type": "markdown",
   "id": "fcfa1059",
   "metadata": {},
   "source": [
    "Let's implement Toroidal wrap:"
   ]
  },
  {
   "cell_type": "code",
   "execution_count": 39,
   "id": "3f363b7c",
   "metadata": {},
   "outputs": [],
   "source": [
    "def inc(i):\n",
    "    return 0 if i == n-1 else i+1\n",
    "\n",
    "def dec(i):\n",
    "    return n-1 if i == 0 else i-1"
   ]
  },
  {
   "cell_type": "markdown",
   "id": "9026a636",
   "metadata": {},
   "source": [
    "# Moving a chess pawn\n",
    "Let's start with a pawn all the way im the back row:"
   ]
  },
  {
   "cell_type": "code",
   "execution_count": 40,
   "id": "8aa97046",
   "metadata": {},
   "outputs": [
    {
     "data": {
      "text/plain": [
       "[[' ', ' ', ' ', ' ', ' ', ' ', ' ', ' '],\n",
       " [' ', ' ', ' ', ' ', ' ', ' ', ' ', ' '],\n",
       " [' ', ' ', ' ', ' ', ' ', ' ', ' ', ' '],\n",
       " [' ', ' ', ' ', ' ', ' ', ' ', ' ', ' '],\n",
       " [' ', ' ', ' ', ' ', 'X', ' ', ' ', ' '],\n",
       " [' ', ' ', ' ', ' ', ' ', ' ', ' ', ' '],\n",
       " [' ', ' ', ' ', ' ', ' ', ' ', ' ', ' '],\n",
       " [' ', ' ', ' ', ' ', ' ', ' ', 'X', ' ']]"
      ]
     },
     "execution_count": 40,
     "metadata": {},
     "output_type": "execute_result"
    }
   ],
   "source": [
    "board[7][6] = 'X'\n",
    "board"
   ]
  },
  {
   "cell_type": "code",
   "execution_count": 41,
   "id": "b30fbfec",
   "metadata": {},
   "outputs": [],
   "source": [
    "def reset(board):\n",
    "    board = [[' ' for i in range(n)] for j in range(n)]\n",
    "    board[7][6] = 'X'\n",
    "    return board"
   ]
  },
  {
   "cell_type": "markdown",
   "id": "227402ca",
   "metadata": {},
   "source": [
    "Let's write a program that moves a pawn chess piece:"
   ]
  },
  {
   "cell_type": "code",
   "execution_count": 42,
   "id": "0239b1cd",
   "metadata": {},
   "outputs": [
    {
     "data": {
      "text/plain": [
       "1"
      ]
     },
     "execution_count": 42,
     "metadata": {},
     "output_type": "execute_result"
    }
   ],
   "source": [
    "import random\n",
    "random.choice([0,1])"
   ]
  },
  {
   "cell_type": "code",
   "execution_count": 43,
   "id": "8b0ddad2",
   "metadata": {},
   "outputs": [
    {
     "data": {
      "text/plain": [
       "[[' ', ' ', ' ', ' ', ' ', ' ', ' ', ' '],\n",
       " [' ', ' ', ' ', ' ', ' ', ' ', ' ', ' '],\n",
       " [' ', ' ', ' ', ' ', ' ', ' ', ' ', ' '],\n",
       " [' ', ' ', ' ', ' ', ' ', ' ', ' ', ' '],\n",
       " [' ', ' ', ' ', ' ', ' ', ' ', ' ', ' '],\n",
       " [' ', ' ', ' ', ' ', ' ', ' ', ' ', ' '],\n",
       " [' ', ' ', ' ', ' ', ' ', ' ', ' ', 'X'],\n",
       " [' ', ' ', ' ', ' ', ' ', ' ', ' ', ' ']]"
      ]
     },
     "execution_count": 43,
     "metadata": {},
     "output_type": "execute_result"
    }
   ],
   "source": [
    "def movepawn(board):\n",
    "    for i,row in enumerate(board):\n",
    "        for j,col in enumerate(row):\n",
    "            if board[i][j] == 'X': \n",
    "                board[dec(i)][random.choice([dec(j), inc(j)])] = 'X'\n",
    "                board[i][j] = ' '\n",
    "                return board\n",
    "   \n",
    "board = reset(board)\n",
    "movepawn(board)"
   ]
  },
  {
   "cell_type": "code",
   "execution_count": 67,
   "id": "3191a83d",
   "metadata": {},
   "outputs": [
    {
     "data": {
      "text/plain": [
       "[[' ', ' ', ' ', ' ', ' ', ' ', ' ', ' '],\n",
       " [' ', ' ', ' ', ' ', ' ', ' ', ' ', ' '],\n",
       " [' ', ' ', ' ', ' ', ' ', ' ', ' ', ' '],\n",
       " [' ', ' ', ' ', ' ', ' ', ' ', ' ', ' '],\n",
       " [' ', ' ', ' ', ' ', ' ', ' ', ' ', ' '],\n",
       " [' ', ' ', ' ', ' ', ' ', ' ', ' ', ' '],\n",
       " [' ', 'X', ' ', ' ', ' ', ' ', ' ', ' '],\n",
       " [' ', ' ', ' ', ' ', ' ', ' ', ' ', ' ']]"
      ]
     },
     "execution_count": 67,
     "metadata": {},
     "output_type": "execute_result"
    }
   ],
   "source": [
    "board = movepawn(board)\n",
    "board"
   ]
  },
  {
   "cell_type": "markdown",
   "id": "4d107319",
   "metadata": {},
   "source": [
    "Now let's rewrite the program as a string, so that we can evolve it with string manipulations:"
   ]
  },
  {
   "cell_type": "code",
   "execution_count": 68,
   "id": "c9cb97d2",
   "metadata": {},
   "outputs": [],
   "source": [
    "pawnmove = \"\"\"\n",
    "\n",
    "found = False\n",
    "for i,row in enumerate(board):\n",
    "    for j,col in enumerate(row):\n",
    "        if board[i][j] == 'X': \n",
    "            board[dec(i)][random.choice([dec(j), inc(j)])] = 'X'\n",
    "            board[i][j] = ' '\n",
    "            _save(board)\n",
    "            found = True\n",
    "            break\n",
    "    if found:\n",
    "        break\n",
    "\n",
    "\"\"\""
   ]
  },
  {
   "cell_type": "code",
   "execution_count": 69,
   "id": "cf84f4cf",
   "metadata": {},
   "outputs": [],
   "source": [
    "import random\n",
    "\n",
    "# set globals parameter to none\n",
    "globalsParameter = {}\n",
    "\n",
    "# set locals parameters\n",
    "tape = []\n",
    "position = []\n",
    "def _save(x):\n",
    "    global tape\n",
    "    tape.append(x)\n",
    "    return None\n",
    "localsParameter = {'board': board, 'dec': dec, 'inc': inc, '_save': _save, 'random': random}\n",
    "\n",
    "# reset board\n",
    "board = reset(board)"
   ]
  },
  {
   "cell_type": "markdown",
   "id": "235f1560",
   "metadata": {},
   "source": [
    "Let's execute moving a pawn repeatedly with CTRL-Enter, and then look at the last move on our infinite tape:"
   ]
  },
  {
   "cell_type": "code",
   "execution_count": 83,
   "id": "eacf60c6",
   "metadata": {},
   "outputs": [
    {
     "data": {
      "text/plain": [
       "[[' ', ' ', ' ', 'X', ' ', ' ', ' ', ' '],\n",
       " [' ', ' ', ' ', ' ', ' ', ' ', ' ', ' '],\n",
       " [' ', ' ', ' ', ' ', ' ', ' ', ' ', ' '],\n",
       " [' ', ' ', ' ', ' ', ' ', ' ', ' ', ' '],\n",
       " [' ', ' ', ' ', ' ', ' ', ' ', ' ', ' '],\n",
       " [' ', ' ', ' ', ' ', ' ', ' ', ' ', ' '],\n",
       " [' ', ' ', ' ', ' ', ' ', ' ', ' ', ' '],\n",
       " [' ', ' ', ' ', ' ', ' ', ' ', ' ', ' ']]"
      ]
     },
     "execution_count": 83,
     "metadata": {},
     "output_type": "execute_result"
    }
   ],
   "source": [
    "exec(pawnmove, globalsParameter, localsParameter)\n",
    "tape[-1]"
   ]
  },
  {
   "cell_type": "markdown",
   "id": "594a3acb",
   "metadata": {},
   "source": [
    "# A chess knight"
   ]
  },
  {
   "cell_type": "markdown",
   "id": "75f953cf",
   "metadata": {},
   "source": [
    "Let's evolve our program so that a pawn can randomly change to a knight:\n",
    "\n",
    "<br />\n",
    "<center>\n",
    "<img src = ipynb.images/chess-knight.png width = 300 />\n",
    "</center>"
   ]
  },
  {
   "cell_type": "markdown",
   "id": "17a93cc8",
   "metadata": {},
   "source": [
    "Let's build the knight's moves on the chess board.\n",
    "\n",
    "This is moving two squares with toroidal wrap:"
   ]
  },
  {
   "cell_type": "code",
   "execution_count": 84,
   "id": "28f0cc8a",
   "metadata": {},
   "outputs": [],
   "source": [
    "def inc2(i):\n",
    "    return 0 if i == n-2 else 1 if i == n-1 else i+2\n",
    "\n",
    "def dec2(i):\n",
    "    return n-2 if i == 0 else n-1 if i == 1 else i-2"
   ]
  },
  {
   "cell_type": "markdown",
   "id": "4bf08bd7",
   "metadata": {},
   "source": [
    "And these are the knight's options:"
   ]
  },
  {
   "cell_type": "code",
   "execution_count": 85,
   "id": "18992b3c",
   "metadata": {},
   "outputs": [
    {
     "data": {
      "text/plain": [
       "[[' ', ' ', ' ', ' ', ' ', ' ', ' ', ' '],\n",
       " [' ', ' ', ' ', ' ', ' ', ' ', ' ', ' '],\n",
       " [' ', ' ', ' ', '1', ' ', '2', ' ', ' '],\n",
       " [' ', ' ', '0', ' ', ' ', ' ', '3', ' '],\n",
       " [' ', ' ', ' ', ' ', 'X', ' ', ' ', ' '],\n",
       " [' ', ' ', '7', ' ', ' ', ' ', '4', ' '],\n",
       " [' ', ' ', ' ', '6', ' ', '5', ' ', ' '],\n",
       " [' ', ' ', ' ', ' ', ' ', ' ', ' ', ' ']]"
      ]
     },
     "execution_count": 85,
     "metadata": {},
     "output_type": "execute_result"
    }
   ],
   "source": [
    "# start with the upper left 2 options, then proceed clockwise. \n",
    "# Note that rows increase up to down and columns increase left to right.\n",
    "i = 4; j = 4\n",
    "knight_choices = [(dec(i), dec2(j)), (dec2(i), dec(j)), (dec2(i), inc(j)), (dec(i), inc2(j)),\n",
    "           (inc(i), inc2(j)),  (inc2(i), inc(j)), (inc2(i), dec(j)), (inc(i), dec2(j)) ]\n",
    "\n",
    "# reset board\n",
    "board = reset(board)\n",
    "board[7][6] = ' '\n",
    "board[i][j] = 'X'\n",
    "for k,(i,j) in enumerate(knight_choices):\n",
    "    board[i][j] = str(k)\n",
    "board"
   ]
  },
  {
   "cell_type": "markdown",
   "id": "98d2b9c8",
   "metadata": {},
   "source": [
    "Let's rewrite the knight's options as a function:"
   ]
  },
  {
   "cell_type": "code",
   "execution_count": 86,
   "id": "b65020be",
   "metadata": {},
   "outputs": [],
   "source": [
    "def knight_choices(i,j):\n",
    "    return [(dec(i), dec2(j)), (dec2(i), dec(j)), (dec2(i), inc(j)), (dec(i), inc2(j)),\n",
    "           (inc(i), inc2(j)),  (inc2(i), inc(j)), (inc2(i), dec(j)), (inc(i), dec2(j)) ]"
   ]
  },
  {
   "cell_type": "markdown",
   "id": "64a094a5",
   "metadata": {},
   "source": [
    "And then call that function:"
   ]
  },
  {
   "cell_type": "code",
   "execution_count": 87,
   "id": "c13e46f3",
   "metadata": {},
   "outputs": [
    {
     "data": {
      "text/plain": [
       "[[' ', ' ', ' ', ' ', ' ', ' ', ' ', ' '],\n",
       " [' ', ' ', ' ', ' ', ' ', ' ', ' ', ' '],\n",
       " [' ', ' ', ' ', ' ', ' ', ' ', ' ', ' '],\n",
       " [' ', ' ', ' ', ' ', ' ', ' ', ' ', ' '],\n",
       " [' ', ' ', ' ', ' ', 'X', ' ', ' ', ' '],\n",
       " [' ', ' ', ' ', ' ', ' ', ' ', ' ', ' '],\n",
       " [' ', ' ', ' ', ' ', ' ', ' ', ' ', ' '],\n",
       " [' ', ' ', ' ', ' ', ' ', ' ', ' ', ' ']]"
      ]
     },
     "execution_count": 87,
     "metadata": {},
     "output_type": "execute_result"
    }
   ],
   "source": [
    "moves = []\n",
    "def moveknight(board):\n",
    "    for i,row in enumerate(board):\n",
    "        for j,col in enumerate(row):\n",
    "            if board[i][j] == 'X': \n",
    "                choice = random.choice(knight_choices(i,j))\n",
    "                moves.append(choice)\n",
    "                board[choice[0]][choice[1]] = 'X'\n",
    "                board[i][j] = ' '\n",
    "                return board\n",
    "   \n",
    "board = reset(board)\n",
    "board[7][6] = ' '\n",
    "board[4][4] = 'X'\n",
    "moves.append((4,4))\n",
    "board"
   ]
  },
  {
   "cell_type": "code",
   "execution_count": 107,
   "id": "1777dce5",
   "metadata": {},
   "outputs": [
    {
     "data": {
      "text/plain": [
       "[[' ', ' ', ' ', ' ', ' ', ' ', ' ', ' '],\n",
       " [' ', ' ', ' ', ' ', ' ', ' ', ' ', ' '],\n",
       " [' ', ' ', ' ', ' ', ' ', ' ', ' ', ' '],\n",
       " [' ', ' ', ' ', 'X', ' ', ' ', ' ', ' '],\n",
       " [' ', ' ', ' ', ' ', ' ', ' ', ' ', ' '],\n",
       " [' ', ' ', ' ', ' ', ' ', ' ', ' ', ' '],\n",
       " [' ', ' ', ' ', ' ', ' ', ' ', ' ', ' '],\n",
       " [' ', ' ', ' ', ' ', ' ', ' ', ' ', ' ']]"
      ]
     },
     "execution_count": 107,
     "metadata": {},
     "output_type": "execute_result"
    }
   ],
   "source": [
    "board = moveknight(board)\n",
    "board"
   ]
  },
  {
   "cell_type": "markdown",
   "id": "622d7dc6",
   "metadata": {},
   "source": [
    "Let's examine our tape:"
   ]
  },
  {
   "cell_type": "code",
   "execution_count": 108,
   "id": "7fcd618a",
   "metadata": {},
   "outputs": [
    {
     "data": {
      "text/plain": [
       "[(4, 4),\n",
       " (5, 6),\n",
       " (3, 7),\n",
       " (1, 0),\n",
       " (0, 2),\n",
       " (1, 0),\n",
       " (3, 7),\n",
       " (1, 0),\n",
       " (3, 1),\n",
       " (5, 0),\n",
       " (3, 7),\n",
       " (2, 1),\n",
       " (1, 3),\n",
       " (0, 1),\n",
       " (1, 7),\n",
       " (0, 1),\n",
       " (6, 0),\n",
       " (4, 1),\n",
       " (3, 3),\n",
       " (2, 5),\n",
       " (3, 3)]"
      ]
     },
     "execution_count": 108,
     "metadata": {},
     "output_type": "execute_result"
    }
   ],
   "source": [
    "moves"
   ]
  },
  {
   "cell_type": "code",
   "execution_count": null,
   "id": "9509fa44",
   "metadata": {},
   "outputs": [],
   "source": [
    "moves[1:]"
   ]
  },
  {
   "cell_type": "markdown",
   "id": "5ae73ca0",
   "metadata": {},
   "source": [
    "Let's zip up two copies of our tape, skewed by 1, to better vizualize the movement:"
   ]
  },
  {
   "cell_type": "code",
   "execution_count": 109,
   "id": "2eb77b23",
   "metadata": {},
   "outputs": [
    {
     "data": {
      "text/plain": [
       "[((4, 4), (5, 6)),\n",
       " ((5, 6), (3, 7)),\n",
       " ((3, 7), (1, 0)),\n",
       " ((1, 0), (0, 2)),\n",
       " ((0, 2), (1, 0)),\n",
       " ((1, 0), (3, 7)),\n",
       " ((3, 7), (1, 0)),\n",
       " ((1, 0), (3, 1)),\n",
       " ((3, 1), (5, 0)),\n",
       " ((5, 0), (3, 7)),\n",
       " ((3, 7), (2, 1)),\n",
       " ((2, 1), (1, 3)),\n",
       " ((1, 3), (0, 1)),\n",
       " ((0, 1), (1, 7)),\n",
       " ((1, 7), (0, 1)),\n",
       " ((0, 1), (6, 0)),\n",
       " ((6, 0), (4, 1)),\n",
       " ((4, 1), (3, 3)),\n",
       " ((3, 3), (2, 5)),\n",
       " ((2, 5), (3, 3))]"
      ]
     },
     "execution_count": 109,
     "metadata": {},
     "output_type": "execute_result"
    }
   ],
   "source": [
    "list(zip(moves, moves[1:]))"
   ]
  },
  {
   "cell_type": "markdown",
   "id": "d9cbbb27",
   "metadata": {},
   "source": [
    "Let's write a function that put a pawn/knight at a certain square, and make it **polymorphic** to allow it to put two chess pieces on the board, where `X` represents prior position and `O` represents the move.\n",
    "\n",
    "Then, let's look at our tape using a chessboard simulator."
   ]
  },
  {
   "cell_type": "code",
   "execution_count": 110,
   "id": "c5eb0b72",
   "metadata": {},
   "outputs": [
    {
     "name": "stdout",
     "output_type": "stream",
     "text": [
      "[' ', ' ', ' ', ' ', ' ', ' ', ' ', ' ']\n",
      "[' ', ' ', ' ', ' ', ' ', ' ', ' ', ' ']\n",
      "[' ', ' ', ' ', ' ', ' ', ' ', ' ', ' ']\n",
      "[' ', ' ', ' ', ' ', ' ', ' ', ' ', ' ']\n",
      "[' ', ' ', ' ', ' ', 'X', ' ', ' ', ' ']\n",
      "[' ', ' ', ' ', ' ', ' ', ' ', 'O', ' ']\n",
      "[' ', ' ', ' ', ' ', ' ', ' ', ' ', ' ']\n",
      "[' ', ' ', ' ', ' ', ' ', ' ', ' ', ' ']\n",
      "\n",
      "[' ', ' ', ' ', ' ', ' ', ' ', ' ', ' ']\n",
      "[' ', ' ', ' ', ' ', ' ', ' ', ' ', ' ']\n",
      "[' ', ' ', ' ', ' ', ' ', ' ', ' ', ' ']\n",
      "[' ', ' ', ' ', ' ', ' ', ' ', ' ', 'O']\n",
      "[' ', ' ', ' ', ' ', ' ', ' ', ' ', ' ']\n",
      "[' ', ' ', ' ', ' ', ' ', ' ', 'X', ' ']\n",
      "[' ', ' ', ' ', ' ', ' ', ' ', ' ', ' ']\n",
      "[' ', ' ', ' ', ' ', ' ', ' ', ' ', ' ']\n",
      "\n",
      "[' ', ' ', ' ', ' ', ' ', ' ', ' ', ' ']\n",
      "['O', ' ', ' ', ' ', ' ', ' ', ' ', ' ']\n",
      "[' ', ' ', ' ', ' ', ' ', ' ', ' ', ' ']\n",
      "[' ', ' ', ' ', ' ', ' ', ' ', ' ', 'X']\n",
      "[' ', ' ', ' ', ' ', ' ', ' ', ' ', ' ']\n",
      "[' ', ' ', ' ', ' ', ' ', ' ', ' ', ' ']\n",
      "[' ', ' ', ' ', ' ', ' ', ' ', ' ', ' ']\n",
      "[' ', ' ', ' ', ' ', ' ', ' ', ' ', ' ']\n",
      "\n",
      "[' ', ' ', 'O', ' ', ' ', ' ', ' ', ' ']\n",
      "['X', ' ', ' ', ' ', ' ', ' ', ' ', ' ']\n",
      "[' ', ' ', ' ', ' ', ' ', ' ', ' ', ' ']\n",
      "[' ', ' ', ' ', ' ', ' ', ' ', ' ', ' ']\n",
      "[' ', ' ', ' ', ' ', ' ', ' ', ' ', ' ']\n",
      "[' ', ' ', ' ', ' ', ' ', ' ', ' ', ' ']\n",
      "[' ', ' ', ' ', ' ', ' ', ' ', ' ', ' ']\n",
      "[' ', ' ', ' ', ' ', ' ', ' ', ' ', ' ']\n",
      "\n",
      "[' ', ' ', 'X', ' ', ' ', ' ', ' ', ' ']\n",
      "['O', ' ', ' ', ' ', ' ', ' ', ' ', ' ']\n",
      "[' ', ' ', ' ', ' ', ' ', ' ', ' ', ' ']\n",
      "[' ', ' ', ' ', ' ', ' ', ' ', ' ', ' ']\n",
      "[' ', ' ', ' ', ' ', ' ', ' ', ' ', ' ']\n",
      "[' ', ' ', ' ', ' ', ' ', ' ', ' ', ' ']\n",
      "[' ', ' ', ' ', ' ', ' ', ' ', ' ', ' ']\n",
      "[' ', ' ', ' ', ' ', ' ', ' ', ' ', ' ']\n",
      "\n",
      "[' ', ' ', ' ', ' ', ' ', ' ', ' ', ' ']\n",
      "['X', ' ', ' ', ' ', ' ', ' ', ' ', ' ']\n",
      "[' ', ' ', ' ', ' ', ' ', ' ', ' ', ' ']\n",
      "[' ', ' ', ' ', ' ', ' ', ' ', ' ', 'O']\n",
      "[' ', ' ', ' ', ' ', ' ', ' ', ' ', ' ']\n",
      "[' ', ' ', ' ', ' ', ' ', ' ', ' ', ' ']\n",
      "[' ', ' ', ' ', ' ', ' ', ' ', ' ', ' ']\n",
      "[' ', ' ', ' ', ' ', ' ', ' ', ' ', ' ']\n",
      "\n",
      "[' ', ' ', ' ', ' ', ' ', ' ', ' ', ' ']\n",
      "['O', ' ', ' ', ' ', ' ', ' ', ' ', ' ']\n",
      "[' ', ' ', ' ', ' ', ' ', ' ', ' ', ' ']\n",
      "[' ', ' ', ' ', ' ', ' ', ' ', ' ', 'X']\n",
      "[' ', ' ', ' ', ' ', ' ', ' ', ' ', ' ']\n",
      "[' ', ' ', ' ', ' ', ' ', ' ', ' ', ' ']\n",
      "[' ', ' ', ' ', ' ', ' ', ' ', ' ', ' ']\n",
      "[' ', ' ', ' ', ' ', ' ', ' ', ' ', ' ']\n",
      "\n",
      "[' ', ' ', ' ', ' ', ' ', ' ', ' ', ' ']\n",
      "['X', ' ', ' ', ' ', ' ', ' ', ' ', ' ']\n",
      "[' ', ' ', ' ', ' ', ' ', ' ', ' ', ' ']\n",
      "[' ', 'O', ' ', ' ', ' ', ' ', ' ', ' ']\n",
      "[' ', ' ', ' ', ' ', ' ', ' ', ' ', ' ']\n",
      "[' ', ' ', ' ', ' ', ' ', ' ', ' ', ' ']\n",
      "[' ', ' ', ' ', ' ', ' ', ' ', ' ', ' ']\n",
      "[' ', ' ', ' ', ' ', ' ', ' ', ' ', ' ']\n",
      "\n",
      "[' ', ' ', ' ', ' ', ' ', ' ', ' ', ' ']\n",
      "[' ', ' ', ' ', ' ', ' ', ' ', ' ', ' ']\n",
      "[' ', ' ', ' ', ' ', ' ', ' ', ' ', ' ']\n",
      "[' ', 'X', ' ', ' ', ' ', ' ', ' ', ' ']\n",
      "[' ', ' ', ' ', ' ', ' ', ' ', ' ', ' ']\n",
      "['O', ' ', ' ', ' ', ' ', ' ', ' ', ' ']\n",
      "[' ', ' ', ' ', ' ', ' ', ' ', ' ', ' ']\n",
      "[' ', ' ', ' ', ' ', ' ', ' ', ' ', ' ']\n",
      "\n",
      "[' ', ' ', ' ', ' ', ' ', ' ', ' ', ' ']\n",
      "[' ', ' ', ' ', ' ', ' ', ' ', ' ', ' ']\n",
      "[' ', ' ', ' ', ' ', ' ', ' ', ' ', ' ']\n",
      "[' ', ' ', ' ', ' ', ' ', ' ', ' ', 'O']\n",
      "[' ', ' ', ' ', ' ', ' ', ' ', ' ', ' ']\n",
      "['X', ' ', ' ', ' ', ' ', ' ', ' ', ' ']\n",
      "[' ', ' ', ' ', ' ', ' ', ' ', ' ', ' ']\n",
      "[' ', ' ', ' ', ' ', ' ', ' ', ' ', ' ']\n",
      "\n",
      "[' ', ' ', ' ', ' ', ' ', ' ', ' ', ' ']\n",
      "[' ', ' ', ' ', ' ', ' ', ' ', ' ', ' ']\n",
      "[' ', 'O', ' ', ' ', ' ', ' ', ' ', ' ']\n",
      "[' ', ' ', ' ', ' ', ' ', ' ', ' ', 'X']\n",
      "[' ', ' ', ' ', ' ', ' ', ' ', ' ', ' ']\n",
      "[' ', ' ', ' ', ' ', ' ', ' ', ' ', ' ']\n",
      "[' ', ' ', ' ', ' ', ' ', ' ', ' ', ' ']\n",
      "[' ', ' ', ' ', ' ', ' ', ' ', ' ', ' ']\n",
      "\n",
      "[' ', ' ', ' ', ' ', ' ', ' ', ' ', ' ']\n",
      "[' ', ' ', ' ', 'O', ' ', ' ', ' ', ' ']\n",
      "[' ', 'X', ' ', ' ', ' ', ' ', ' ', ' ']\n",
      "[' ', ' ', ' ', ' ', ' ', ' ', ' ', ' ']\n",
      "[' ', ' ', ' ', ' ', ' ', ' ', ' ', ' ']\n",
      "[' ', ' ', ' ', ' ', ' ', ' ', ' ', ' ']\n",
      "[' ', ' ', ' ', ' ', ' ', ' ', ' ', ' ']\n",
      "[' ', ' ', ' ', ' ', ' ', ' ', ' ', ' ']\n",
      "\n",
      "[' ', 'O', ' ', ' ', ' ', ' ', ' ', ' ']\n",
      "[' ', ' ', ' ', 'X', ' ', ' ', ' ', ' ']\n",
      "[' ', ' ', ' ', ' ', ' ', ' ', ' ', ' ']\n",
      "[' ', ' ', ' ', ' ', ' ', ' ', ' ', ' ']\n",
      "[' ', ' ', ' ', ' ', ' ', ' ', ' ', ' ']\n",
      "[' ', ' ', ' ', ' ', ' ', ' ', ' ', ' ']\n",
      "[' ', ' ', ' ', ' ', ' ', ' ', ' ', ' ']\n",
      "[' ', ' ', ' ', ' ', ' ', ' ', ' ', ' ']\n",
      "\n",
      "[' ', 'X', ' ', ' ', ' ', ' ', ' ', ' ']\n",
      "[' ', ' ', ' ', ' ', ' ', ' ', ' ', 'O']\n",
      "[' ', ' ', ' ', ' ', ' ', ' ', ' ', ' ']\n",
      "[' ', ' ', ' ', ' ', ' ', ' ', ' ', ' ']\n",
      "[' ', ' ', ' ', ' ', ' ', ' ', ' ', ' ']\n",
      "[' ', ' ', ' ', ' ', ' ', ' ', ' ', ' ']\n",
      "[' ', ' ', ' ', ' ', ' ', ' ', ' ', ' ']\n",
      "[' ', ' ', ' ', ' ', ' ', ' ', ' ', ' ']\n",
      "\n",
      "[' ', 'O', ' ', ' ', ' ', ' ', ' ', ' ']\n",
      "[' ', ' ', ' ', ' ', ' ', ' ', ' ', 'X']\n",
      "[' ', ' ', ' ', ' ', ' ', ' ', ' ', ' ']\n",
      "[' ', ' ', ' ', ' ', ' ', ' ', ' ', ' ']\n",
      "[' ', ' ', ' ', ' ', ' ', ' ', ' ', ' ']\n",
      "[' ', ' ', ' ', ' ', ' ', ' ', ' ', ' ']\n",
      "[' ', ' ', ' ', ' ', ' ', ' ', ' ', ' ']\n",
      "[' ', ' ', ' ', ' ', ' ', ' ', ' ', ' ']\n",
      "\n",
      "[' ', 'X', ' ', ' ', ' ', ' ', ' ', ' ']\n",
      "[' ', ' ', ' ', ' ', ' ', ' ', ' ', ' ']\n",
      "[' ', ' ', ' ', ' ', ' ', ' ', ' ', ' ']\n",
      "[' ', ' ', ' ', ' ', ' ', ' ', ' ', ' ']\n",
      "[' ', ' ', ' ', ' ', ' ', ' ', ' ', ' ']\n",
      "[' ', ' ', ' ', ' ', ' ', ' ', ' ', ' ']\n",
      "['O', ' ', ' ', ' ', ' ', ' ', ' ', ' ']\n",
      "[' ', ' ', ' ', ' ', ' ', ' ', ' ', ' ']\n",
      "\n",
      "[' ', ' ', ' ', ' ', ' ', ' ', ' ', ' ']\n",
      "[' ', ' ', ' ', ' ', ' ', ' ', ' ', ' ']\n",
      "[' ', ' ', ' ', ' ', ' ', ' ', ' ', ' ']\n",
      "[' ', ' ', ' ', ' ', ' ', ' ', ' ', ' ']\n",
      "[' ', 'O', ' ', ' ', ' ', ' ', ' ', ' ']\n",
      "[' ', ' ', ' ', ' ', ' ', ' ', ' ', ' ']\n",
      "['X', ' ', ' ', ' ', ' ', ' ', ' ', ' ']\n",
      "[' ', ' ', ' ', ' ', ' ', ' ', ' ', ' ']\n",
      "\n",
      "[' ', ' ', ' ', ' ', ' ', ' ', ' ', ' ']\n",
      "[' ', ' ', ' ', ' ', ' ', ' ', ' ', ' ']\n",
      "[' ', ' ', ' ', ' ', ' ', ' ', ' ', ' ']\n",
      "[' ', ' ', ' ', 'O', ' ', ' ', ' ', ' ']\n",
      "[' ', 'X', ' ', ' ', ' ', ' ', ' ', ' ']\n",
      "[' ', ' ', ' ', ' ', ' ', ' ', ' ', ' ']\n",
      "[' ', ' ', ' ', ' ', ' ', ' ', ' ', ' ']\n",
      "[' ', ' ', ' ', ' ', ' ', ' ', ' ', ' ']\n",
      "\n",
      "[' ', ' ', ' ', ' ', ' ', ' ', ' ', ' ']\n",
      "[' ', ' ', ' ', ' ', ' ', ' ', ' ', ' ']\n",
      "[' ', ' ', ' ', ' ', ' ', 'O', ' ', ' ']\n",
      "[' ', ' ', ' ', 'X', ' ', ' ', ' ', ' ']\n",
      "[' ', ' ', ' ', ' ', ' ', ' ', ' ', ' ']\n",
      "[' ', ' ', ' ', ' ', ' ', ' ', ' ', ' ']\n",
      "[' ', ' ', ' ', ' ', ' ', ' ', ' ', ' ']\n",
      "[' ', ' ', ' ', ' ', ' ', ' ', ' ', ' ']\n",
      "\n",
      "[' ', ' ', ' ', ' ', ' ', ' ', ' ', ' ']\n",
      "[' ', ' ', ' ', ' ', ' ', ' ', ' ', ' ']\n",
      "[' ', ' ', ' ', ' ', ' ', 'X', ' ', ' ']\n",
      "[' ', ' ', ' ', 'O', ' ', ' ', ' ', ' ']\n",
      "[' ', ' ', ' ', ' ', ' ', ' ', ' ', ' ']\n",
      "[' ', ' ', ' ', ' ', ' ', ' ', ' ', ' ']\n",
      "[' ', ' ', ' ', ' ', ' ', ' ', ' ', ' ']\n",
      "[' ', ' ', ' ', ' ', ' ', ' ', ' ', ' ']\n",
      "\n"
     ]
    }
   ],
   "source": [
    "def setboard(i,j):\n",
    "    global board\n",
    "    board = reset(board)\n",
    "    board[7][6] = ' '\n",
    "    board[i][j] = 'X'\n",
    "    return board\n",
    "\n",
    "def setboard(i,j, p, q):\n",
    "    global board\n",
    "    board = reset(board)\n",
    "    board[7][6] = ' '\n",
    "    board[i][j] = 'X'\n",
    "    board[p][q] = 'O'\n",
    "    return board\n",
    "\n",
    "for (i,j),(p,q) in zip(moves, moves[1:]):\n",
    "    board = setboard(i, j, p, q)\n",
    "    print(*board, sep='\\n')\n",
    "    print()"
   ]
  },
  {
   "cell_type": "markdown",
   "id": "6925c41e",
   "metadata": {},
   "source": [
    "# Self-evolution\n",
    "Now that we know ho to move a knight, let's \"*evolve*\" our pawn code so that it acquires the knowledge of how to move a knight and then randomly chooses between a pawn move or a knight move.\n",
    "\n",
    "We are going to have to remove the code [telomere](https://en.wikipedia.org/wiki/Telomere) to add new code, then add the telomere back on, just like with DNA! We will use python comments to introduce telomeres in the code.\n",
    "\n",
    "Let's express pawn and knight moves as the basic building blocks of \"*life*\":"
   ]
  },
  {
   "cell_type": "code",
   "execution_count": 111,
   "id": "c3cf86c7",
   "metadata": {},
   "outputs": [],
   "source": [
    "def pawn_choices(i,j):\n",
    "    return [ (dec(i), inc(j)), (dec(i), dec(j)) ]"
   ]
  },
  {
   "cell_type": "code",
   "execution_count": 112,
   "id": "4cdeb219",
   "metadata": {},
   "outputs": [],
   "source": [
    "import random\n",
    "\n",
    "# set globals parameter to none\n",
    "globalsParameter = {}\n",
    "\n",
    "# set locals parameters\n",
    "tape = []\n",
    "position = []\n",
    "def _save(x):\n",
    "    global tape\n",
    "    tape.append(x)\n",
    "    return None\n",
    "localsParameter = {'board': board, 'dec': dec, 'inc': inc, 'dec2': dec2, 'inc2': inc2, \n",
    "                   'knight_choices': knight_choices, 'pawn_choices': pawn_choices,\n",
    "                   '_save': _save, 'random': random}\n",
    "\n",
    "# reset board\n",
    "board = reset(board)"
   ]
  },
  {
   "cell_type": "markdown",
   "id": "572fd580",
   "metadata": {},
   "source": [
    "Our code written as a string is just a tad bit more complex thatn our code written as a function, since `exec` does not return data."
   ]
  },
  {
   "cell_type": "code",
   "execution_count": 113,
   "id": "20410067",
   "metadata": {},
   "outputs": [],
   "source": [
    "oldcode = \"\"\"\n",
    "\n",
    "found = False\n",
    "for i,row in enumerate(board):\n",
    "    for j,col in enumerate(row):\n",
    "        if board[i][j] == 'X': \n",
    "            # snip\n",
    "            board[dec(i)][random.choice([dec(j), inc(j)])] = 'X'\n",
    "            # snip\n",
    "            board[i][j] = ' '\n",
    "            _save((i,j))\n",
    "            found = True\n",
    "            break\n",
    "    if found:\n",
    "        break\n",
    "\n",
    "\"\"\""
   ]
  },
  {
   "cell_type": "markdown",
   "id": "cc2eaf44",
   "metadata": {},
   "source": [
    "This is how we locate the telomeres:"
   ]
  },
  {
   "cell_type": "code",
   "execution_count": 115,
   "id": "da1f9776",
   "metadata": {},
   "outputs": [
    {
     "data": {
      "text/plain": [
       "124"
      ]
     },
     "execution_count": 115,
     "metadata": {},
     "output_type": "execute_result"
    }
   ],
   "source": [
    "oldcode.find('# snip')"
   ]
  },
  {
   "cell_type": "code",
   "execution_count": 114,
   "id": "8ba7690c",
   "metadata": {},
   "outputs": [
    {
     "data": {
      "text/plain": [
       "208"
      ]
     },
     "execution_count": 114,
     "metadata": {},
     "output_type": "execute_result"
    }
   ],
   "source": [
    "oldcode.rfind('# snip')"
   ]
  },
  {
   "cell_type": "markdown",
   "id": "b1bcec0e",
   "metadata": {},
   "source": [
    "This is how we transcribe new code:"
   ]
  },
  {
   "cell_type": "code",
   "execution_count": 117,
   "id": "dd1fcbeb",
   "metadata": {},
   "outputs": [
    {
     "name": "stdout",
     "output_type": "stream",
     "text": [
      "\n",
      "\n",
      "found = False\n",
      "for i,row in enumerate(board):\n",
      "    for j,col in enumerate(row):\n",
      "        if board[i][j] == 'X': \n",
      "            # snip\n",
      "            ___\n",
      "            # snip\n",
      "            board[i][j] = ' '\n",
      "            _save((i,j))\n",
      "            found = True\n",
      "            break\n",
      "    if found:\n",
      "        break\n",
      "\n",
      "\n"
     ]
    }
   ],
   "source": [
    "evolution = (\n",
    "    oldcode[: oldcode.find('# snip') + len('# snip') + 1 ]\n",
    "    + ' '*12 \n",
    "    + '___\\n' \n",
    "    + ' '*12\n",
    "    + oldcode[oldcode.rfind('# snip') :]\n",
    ")\n",
    "print(evolution)"
   ]
  },
  {
   "cell_type": "markdown",
   "id": "861029b9",
   "metadata": {},
   "source": [
    "We can add the array of pawn moves and the array of knight moves to give us the option of moving a a pawn or moving as a knight (from the square $(4,4)$:"
   ]
  },
  {
   "cell_type": "code",
   "execution_count": null,
   "id": "a4060c53",
   "metadata": {},
   "outputs": [],
   "source": [
    "pawn_choices(4,4) + knight_choices(4,4)"
   ]
  },
  {
   "cell_type": "code",
   "execution_count": 118,
   "id": "36f54c88",
   "metadata": {},
   "outputs": [
    {
     "name": "stdout",
     "output_type": "stream",
     "text": [
      "\n",
      "\n",
      "found = False\n",
      "for i,row in enumerate(board):\n",
      "    for j,col in enumerate(row):\n",
      "        if board[i][j] == 'X': \n",
      "            # snip\n",
      "            choice = random.choice(pawn_choices(i,j) + knight_choices(i,j))\n",
      "            board[choice[0]][choice[1]] = 'X'\n",
      "            # snip\n",
      "            board[i][j] = ' '\n",
      "            _save((i,j))\n",
      "            found = True\n",
      "            break\n",
      "    if found:\n",
      "        break\n",
      "\n",
      "\n"
     ]
    }
   ],
   "source": [
    "newcode = (\n",
    "    oldcode[: oldcode.find('# snip') + len('# snip') + 1 ]\n",
    "    + ' '*12 \n",
    "    + 'choice = random.choice(pawn_choices(i,j) + knight_choices(i,j))'\n",
    "    + '\\n'\n",
    "    + ' '*12\n",
    "    + \"board[choice[0]][choice[1]] = 'X'\"\n",
    "    + '\\n'\n",
    "    + ' '*12 \n",
    "    + oldcode[oldcode.rfind('# snip') :]\n",
    ")\n",
    "print(newcode)"
   ]
  },
  {
   "cell_type": "markdown",
   "id": "2129eb3c",
   "metadata": {},
   "source": [
    "Now let's execute the new code, starting with a chess piece at $(4,4)$:"
   ]
  },
  {
   "cell_type": "code",
   "execution_count": 119,
   "id": "6caf636f",
   "metadata": {},
   "outputs": [
    {
     "data": {
      "text/plain": [
       "[[' ', ' ', ' ', ' ', ' ', ' ', ' ', ' '],\n",
       " [' ', ' ', ' ', ' ', ' ', ' ', ' ', ' '],\n",
       " [' ', ' ', ' ', ' ', ' ', ' ', ' ', ' '],\n",
       " [' ', ' ', ' ', ' ', ' ', ' ', ' ', ' '],\n",
       " [' ', ' ', ' ', ' ', 'X', ' ', ' ', ' '],\n",
       " [' ', ' ', ' ', ' ', ' ', ' ', ' ', ' '],\n",
       " [' ', ' ', ' ', ' ', ' ', ' ', ' ', ' '],\n",
       " [' ', ' ', ' ', ' ', ' ', ' ', ' ', ' ']]"
      ]
     },
     "execution_count": 119,
     "metadata": {},
     "output_type": "execute_result"
    }
   ],
   "source": [
    "board = reset(board)\n",
    "board[7][6] = ' '\n",
    "board[4][4] = 'X'\n",
    "board"
   ]
  },
  {
   "cell_type": "markdown",
   "id": "6c71aa20",
   "metadata": {},
   "source": [
    "Execute many times with CTRL-Enter:"
   ]
  },
  {
   "cell_type": "code",
   "execution_count": 131,
   "id": "028fbd76",
   "metadata": {},
   "outputs": [
    {
     "data": {
      "text/plain": [
       "(1, 4)"
      ]
     },
     "execution_count": 131,
     "metadata": {},
     "output_type": "execute_result"
    }
   ],
   "source": [
    "exec(newcode, globalsParameter, localsParameter)\n",
    "tape[-1]"
   ]
  },
  {
   "cell_type": "markdown",
   "id": "21e030da",
   "metadata": {},
   "source": [
    "Examine the trace of the execution in the context of a moving pawn-hybrid chess piece:"
   ]
  },
  {
   "cell_type": "code",
   "execution_count": 132,
   "id": "087765f3",
   "metadata": {},
   "outputs": [
    {
     "name": "stdout",
     "output_type": "stream",
     "text": [
      "[' ', ' ', ' ', ' ', ' ', ' ', ' ', ' ']\n",
      "[' ', ' ', ' ', ' ', ' ', ' ', 'O', ' ']\n",
      "[' ', ' ', ' ', ' ', ' ', 'X', ' ', ' ']\n",
      "[' ', ' ', ' ', ' ', ' ', ' ', ' ', ' ']\n",
      "[' ', ' ', ' ', ' ', ' ', ' ', ' ', ' ']\n",
      "[' ', ' ', ' ', ' ', ' ', ' ', ' ', ' ']\n",
      "[' ', ' ', ' ', ' ', ' ', ' ', ' ', ' ']\n",
      "[' ', ' ', ' ', ' ', ' ', ' ', ' ', ' ']\n",
      "\n",
      "[' ', ' ', ' ', ' ', ' ', ' ', ' ', ' ']\n",
      "[' ', ' ', ' ', ' ', ' ', ' ', 'X', ' ']\n",
      "[' ', ' ', ' ', ' ', ' ', ' ', ' ', ' ']\n",
      "[' ', ' ', ' ', ' ', ' ', ' ', ' ', ' ']\n",
      "[' ', ' ', ' ', ' ', ' ', ' ', ' ', ' ']\n",
      "[' ', ' ', ' ', ' ', ' ', ' ', ' ', ' ']\n",
      "[' ', ' ', ' ', ' ', ' ', ' ', ' ', ' ']\n",
      "[' ', ' ', ' ', ' ', ' ', ' ', ' ', 'O']\n",
      "\n",
      "[' ', ' ', ' ', ' ', ' ', ' ', ' ', ' ']\n",
      "[' ', ' ', ' ', ' ', ' ', ' ', ' ', ' ']\n",
      "[' ', ' ', ' ', ' ', ' ', ' ', ' ', ' ']\n",
      "[' ', ' ', ' ', ' ', ' ', ' ', ' ', ' ']\n",
      "[' ', ' ', ' ', ' ', ' ', ' ', ' ', ' ']\n",
      "[' ', ' ', ' ', ' ', ' ', ' ', ' ', ' ']\n",
      "[' ', ' ', ' ', ' ', ' ', ' ', 'O', ' ']\n",
      "[' ', ' ', ' ', ' ', ' ', ' ', ' ', 'X']\n",
      "\n",
      "[' ', ' ', ' ', ' ', ' ', 'O', ' ', ' ']\n",
      "[' ', ' ', ' ', ' ', ' ', ' ', ' ', ' ']\n",
      "[' ', ' ', ' ', ' ', ' ', ' ', ' ', ' ']\n",
      "[' ', ' ', ' ', ' ', ' ', ' ', ' ', ' ']\n",
      "[' ', ' ', ' ', ' ', ' ', ' ', ' ', ' ']\n",
      "[' ', ' ', ' ', ' ', ' ', ' ', ' ', ' ']\n",
      "[' ', ' ', ' ', ' ', ' ', ' ', 'X', ' ']\n",
      "[' ', ' ', ' ', ' ', ' ', ' ', ' ', ' ']\n",
      "\n",
      "[' ', ' ', ' ', ' ', ' ', 'X', ' ', ' ']\n",
      "[' ', ' ', ' ', ' ', ' ', ' ', ' ', ' ']\n",
      "[' ', ' ', ' ', ' ', 'O', ' ', ' ', ' ']\n",
      "[' ', ' ', ' ', ' ', ' ', ' ', ' ', ' ']\n",
      "[' ', ' ', ' ', ' ', ' ', ' ', ' ', ' ']\n",
      "[' ', ' ', ' ', ' ', ' ', ' ', ' ', ' ']\n",
      "[' ', ' ', ' ', ' ', ' ', ' ', ' ', ' ']\n",
      "[' ', ' ', ' ', ' ', ' ', ' ', ' ', ' ']\n",
      "\n",
      "[' ', ' ', ' ', ' ', ' ', ' ', ' ', ' ']\n",
      "[' ', ' ', ' ', ' ', ' ', ' ', 'O', ' ']\n",
      "[' ', ' ', ' ', ' ', 'X', ' ', ' ', ' ']\n",
      "[' ', ' ', ' ', ' ', ' ', ' ', ' ', ' ']\n",
      "[' ', ' ', ' ', ' ', ' ', ' ', ' ', ' ']\n",
      "[' ', ' ', ' ', ' ', ' ', ' ', ' ', ' ']\n",
      "[' ', ' ', ' ', ' ', ' ', ' ', ' ', ' ']\n",
      "[' ', ' ', ' ', ' ', ' ', ' ', ' ', ' ']\n",
      "\n",
      "[' ', ' ', ' ', ' ', ' ', 'O', ' ', ' ']\n",
      "[' ', ' ', ' ', ' ', ' ', ' ', 'X', ' ']\n",
      "[' ', ' ', ' ', ' ', ' ', ' ', ' ', ' ']\n",
      "[' ', ' ', ' ', ' ', ' ', ' ', ' ', ' ']\n",
      "[' ', ' ', ' ', ' ', ' ', ' ', ' ', ' ']\n",
      "[' ', ' ', ' ', ' ', ' ', ' ', ' ', ' ']\n",
      "[' ', ' ', ' ', ' ', ' ', ' ', ' ', ' ']\n",
      "[' ', ' ', ' ', ' ', ' ', ' ', ' ', ' ']\n",
      "\n",
      "[' ', ' ', ' ', ' ', ' ', 'X', ' ', ' ']\n",
      "[' ', ' ', ' ', ' ', ' ', ' ', ' ', ' ']\n",
      "[' ', ' ', ' ', ' ', ' ', ' ', ' ', ' ']\n",
      "[' ', ' ', ' ', ' ', ' ', ' ', ' ', ' ']\n",
      "[' ', ' ', ' ', ' ', ' ', ' ', ' ', ' ']\n",
      "[' ', ' ', ' ', ' ', ' ', ' ', ' ', ' ']\n",
      "[' ', ' ', ' ', ' ', ' ', ' ', ' ', ' ']\n",
      "[' ', ' ', ' ', ' ', 'O', ' ', ' ', ' ']\n",
      "\n",
      "[' ', ' ', ' ', ' ', ' ', ' ', ' ', ' ']\n",
      "[' ', ' ', ' ', ' ', ' ', ' ', ' ', ' ']\n",
      "[' ', ' ', ' ', ' ', ' ', ' ', ' ', ' ']\n",
      "[' ', ' ', ' ', ' ', ' ', ' ', ' ', ' ']\n",
      "[' ', ' ', ' ', ' ', ' ', ' ', ' ', ' ']\n",
      "[' ', ' ', ' ', ' ', ' ', ' ', ' ', ' ']\n",
      "[' ', ' ', ' ', 'O', ' ', ' ', ' ', ' ']\n",
      "[' ', ' ', ' ', ' ', 'X', ' ', ' ', ' ']\n",
      "\n",
      "[' ', ' ', 'O', ' ', ' ', ' ', ' ', ' ']\n",
      "[' ', ' ', ' ', ' ', ' ', ' ', ' ', ' ']\n",
      "[' ', ' ', ' ', ' ', ' ', ' ', ' ', ' ']\n",
      "[' ', ' ', ' ', ' ', ' ', ' ', ' ', ' ']\n",
      "[' ', ' ', ' ', ' ', ' ', ' ', ' ', ' ']\n",
      "[' ', ' ', ' ', ' ', ' ', ' ', ' ', ' ']\n",
      "[' ', ' ', ' ', 'X', ' ', ' ', ' ', ' ']\n",
      "[' ', ' ', ' ', ' ', ' ', ' ', ' ', ' ']\n",
      "\n",
      "[' ', ' ', 'X', ' ', ' ', ' ', ' ', ' ']\n",
      "[' ', ' ', ' ', ' ', 'O', ' ', ' ', ' ']\n",
      "[' ', ' ', ' ', ' ', ' ', ' ', ' ', ' ']\n",
      "[' ', ' ', ' ', ' ', ' ', ' ', ' ', ' ']\n",
      "[' ', ' ', ' ', ' ', ' ', ' ', ' ', ' ']\n",
      "[' ', ' ', ' ', ' ', ' ', ' ', ' ', ' ']\n",
      "[' ', ' ', ' ', ' ', ' ', ' ', ' ', ' ']\n",
      "[' ', ' ', ' ', ' ', ' ', ' ', ' ', ' ']\n",
      "\n"
     ]
    }
   ],
   "source": [
    "for (i,j),(p,q) in zip(tape, tape[1:]):\n",
    "    board = setboard(i, j, p, q)\n",
    "    print(*board, sep='\\n')\n",
    "    print()"
   ]
  },
  {
   "cell_type": "markdown",
   "id": "919662ca",
   "metadata": {},
   "source": [
    "# Wrapping up the evolution\n",
    "We're *not* done!\n",
    "\n",
    "We executed the old code, we found a way to evolve the old code into new code, but we did not code the evolution action, yet!\n",
    "\n",
    "The code needs to evolve *itself*, so we cannot be in control!\n",
    "\n",
    "There needs to be a trigger that compels the old code to \"*grow*\". We will use a measure of *boredom*, things that happen that follow a boring pattern, to trigger the code to evolve.\n",
    "\n",
    "A pawn has a total moving distance of 1, so we wiil keep track of the moving distance, and if that stays less than or equal to 1 for more than 10 moves, that will trigger the code to evolve by acquiring a new building block: The chess moves of a knight!\n",
    "\n",
    "Similarly, a knight moves with a total distance of 3, so you could use the same metric to comple the code to evolve and acquire, say, the moves of a rook or a bishop!"
   ]
  },
  {
   "cell_type": "code",
   "execution_count": null,
   "id": "7e3fd565",
   "metadata": {},
   "outputs": [],
   "source": [
    "abs(-1)"
   ]
  },
  {
   "cell_type": "code",
   "execution_count": 133,
   "id": "8173991f",
   "metadata": {},
   "outputs": [
    {
     "data": {
      "text/plain": [
       "1"
      ]
     },
     "execution_count": 133,
     "metadata": {},
     "output_type": "execute_result"
    }
   ],
   "source": [
    "def distance(i,j,p,q):\n",
    "    return max(abs(p-i), abs(q-j))\n",
    "\n",
    "distance(4,4,3,5)"
   ]
  },
  {
   "cell_type": "code",
   "execution_count": 134,
   "id": "7d6a5b9b",
   "metadata": {},
   "outputs": [],
   "source": [
    "import random\n",
    "\n",
    "# set globals parameter to none\n",
    "globalsParameter = {}\n",
    "\n",
    "# set locals parameters\n",
    "tape = []\n",
    "position = []\n",
    "def _save(x):\n",
    "    global tape\n",
    "    tape.append(x)\n",
    "    return None\n",
    "localsParameter = {'board': board, 'dec': dec, 'inc': inc, 'dec2': dec2, 'inc2': inc2, \n",
    "                   'knight_choices': knight_choices, 'pawn_choices': pawn_choices, 'distance': distance,\n",
    "                   '_save': _save, 'random': random}\n",
    "\n",
    "# reset board\n",
    "board = reset(board)"
   ]
  },
  {
   "cell_type": "markdown",
   "id": "2e563a3a",
   "metadata": {},
   "source": [
    "Verifying our distance metric:"
   ]
  },
  {
   "cell_type": "code",
   "execution_count": 135,
   "id": "90ba21ac",
   "metadata": {},
   "outputs": [
    {
     "name": "stdout",
     "output_type": "stream",
     "text": [
      "[(0, 2), (7, 1)]\n"
     ]
    },
    {
     "data": {
      "text/plain": [
       "7"
      ]
     },
     "execution_count": 135,
     "metadata": {},
     "output_type": "execute_result"
    }
   ],
   "source": [
    "tape = []\n",
    "board = reset(board)\n",
    "\n",
    "code = oldcode\n",
    "exec(code, globalsParameter, localsParameter)\n",
    "exec(code, globalsParameter, localsParameter)\n",
    "print(tape)\n",
    "distance(tape[0][0], tape[0][1], tape[1][0], tape[1][1])"
   ]
  },
  {
   "cell_type": "code",
   "execution_count": 136,
   "id": "c0ed3d47",
   "metadata": {},
   "outputs": [
    {
     "data": {
      "text/plain": [
       "7"
      ]
     },
     "execution_count": 136,
     "metadata": {},
     "output_type": "execute_result"
    }
   ],
   "source": [
    "distance(tape[-2][0], tape[-2][1], tape[-1][0], tape[-1][1])"
   ]
  },
  {
   "cell_type": "markdown",
   "id": "6c70362a",
   "metadata": {},
   "source": [
    "Coding the evolution:"
   ]
  },
  {
   "cell_type": "code",
   "execution_count": 137,
   "id": "b29ebf75",
   "metadata": {},
   "outputs": [
    {
     "name": "stdout",
     "output_type": "stream",
     "text": [
      "1 (6, 0)\n",
      "2 (5, 1)\n",
      "3 (4, 2)\n",
      "4 (3, 1)\n",
      "5 (2, 2)\n",
      "6 (1, 1)\n",
      "7 (0, 2)\n",
      "8 (7, 1)\n",
      "9 (6, 0)\n",
      "10 (5, 1)\n",
      "11 (4, 0)\n",
      "12 (3, 7)\n",
      "13 (2, 0)\n",
      "14 (1, 1)\n",
      "15 (0, 2)\n",
      "16 (7, 1)\n",
      "17 (6, 2)\n",
      "18 (5, 1)\n",
      "19 (4, 2)\n",
      "Evolving!\n",
      "20 (3, 3)\n",
      "21 (5, 2)\n",
      "Comitting suicide!\n"
     ]
    }
   ],
   "source": [
    "tape = []\n",
    "board = reset(board)\n",
    "\n",
    "code = oldcode\n",
    "i_am_bored = 0\n",
    "biggest_trip = 0\n",
    "\n",
    "# first move\n",
    "exec(code, globalsParameter, localsParameter)\n",
    "total_moves = 1\n",
    "print(total_moves, tape[-1])\n",
    "\n",
    "# subsequent moves\n",
    "while True:\n",
    "    exec(code, globalsParameter, localsParameter)\n",
    "    total_moves += 1\n",
    "    print(total_moves, tape[-1])\n",
    "    \n",
    "    # compute distance covered by last move and save if biggest so far\n",
    "    d = distance(tape[-2][0], tape[-2][1], tape[-1][0], tape[-1][1])\n",
    "    if biggest_trip < d: \n",
    "        biggest_trip = d\n",
    "        i_am_bored = 0\n",
    "    else:\n",
    "        i_am_bored += 1\n",
    "        \n",
    "    # suicide\n",
    "    if 20 < total_moves:\n",
    "        print('Comitting suicide!')\n",
    "        break\n",
    "        \n",
    "    # If the total distance covered has stayed the same for more than 10 moves,\n",
    "    # we are bored!! Evolve the code\n",
    "    if 10 < i_am_bored:\n",
    "        print('Evolving!')\n",
    "        code = (\n",
    "            oldcode[: oldcode.find('# snip') + len('# snip') + 1 ]\n",
    "            + ' '*12 \n",
    "            + 'choice = random.choice(pawn_choices(i,j) + knight_choices(i,j))'\n",
    "            + '\\n'\n",
    "            + ' '*12\n",
    "            + \"board[choice[0]][choice[1]] = 'X'\"\n",
    "            + '\\n'\n",
    "            + ' '*12 \n",
    "            + oldcode[oldcode.rfind('# snip') :]\n",
    "        )\n",
    "        i_am_bored = 0\n",
    "        "
   ]
  },
  {
   "cell_type": "markdown",
   "id": "f6836174",
   "metadata": {},
   "source": [
    "Examine the trace:"
   ]
  },
  {
   "cell_type": "code",
   "execution_count": null,
   "id": "480f8099",
   "metadata": {},
   "outputs": [],
   "source": [
    "for (i,j),(p,q) in zip(tape, tape[1:]):\n",
    "    board = setboard(i, j, p, q)\n",
    "    print(*board, sep='\\n')\n",
    "    print()"
   ]
  },
  {
   "cell_type": "markdown",
   "id": "1aa0d80f",
   "metadata": {},
   "source": [
    "There you have it.\n",
    "\n",
    "<br />\n",
    "<center>\n",
    "<img src = ipynb.images/ai-robot.png width = 900 />\n",
    "</center>\n",
    "\n",
    "[Self-modifying code](https://en.wikipedia.org/wiki/Self-modifying_code) (SMC or SMoC) is code that alters its own instructions while it is executing. It is one implementation for real AI, one based on *you*.\n",
    "\n",
    "In our case, code that grows according to environmental factors by acquiring new sets of logic blocks.\n",
    "\n",
    "Possibly, the logic blocks could be written by a chatGPT-like program, acquring code from humans and improving it.\n",
    "\n",
    "But chatGPT is not AI. It is ML, which is a subset of DS.\n",
    "\n",
    "But you can call it AI if you want. It does sound sexier.\n",
    "\n",
    "Now you know."
   ]
  }
 ],
 "metadata": {
  "kernelspec": {
   "display_name": "Python 3 (ipykernel)",
   "language": "python",
   "name": "python3"
  },
  "language_info": {
   "codemirror_mode": {
    "name": "ipython",
    "version": 3
   },
   "file_extension": ".py",
   "mimetype": "text/x-python",
   "name": "python",
   "nbconvert_exporter": "python",
   "pygments_lexer": "ipython3",
   "version": "3.10.8"
  }
 },
 "nbformat": 4,
 "nbformat_minor": 5
}
